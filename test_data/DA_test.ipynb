{
 "cells": [
  {
   "cell_type": "markdown",
   "metadata": {},
   "source": [
    "# Распределительный тест Python МОВС 2023"
   ]
  },
  {
   "cell_type": "code",
   "execution_count": 1,
   "metadata": {},
   "outputs": [],
   "source": [
    "import numpy as np\n",
    "import pandas as pd\n",
    "import matplotlib.pyplot as plt\n",
    "import re"
   ]
  },
  {
   "cell_type": "markdown",
   "metadata": {},
   "source": [
    "# Задача 1. Уникальные ip\n",
    "\n",
    "\n",
    "Дан файл `access_log.txt`, строки которого начинаются с ip пользователей. Найти:\n",
    "\n",
    "1. количество уникальных ip\n",
    "2. 5 самых часто встречающихся и то, сколько раз они встречаются."
   ]
  },
  {
   "cell_type": "code",
   "execution_count": 2,
   "metadata": {
    "scrolled": true
   },
   "outputs": [
    {
     "name": "stdout",
     "output_type": "stream",
     "text": [
      "DA_test.ipynb  access_log.txt reverb.csv\r\n"
     ]
    }
   ],
   "source": [
    "!ls"
   ]
  },
  {
   "cell_type": "code",
   "execution_count": 3,
   "metadata": {},
   "outputs": [],
   "source": [
    "with open('access_log.txt') as f:\n",
    "    lines = f.readlines()"
   ]
  },
  {
   "cell_type": "code",
   "execution_count": 4,
   "metadata": {},
   "outputs": [
    {
     "data": {
      "text/plain": [
       "'13.66.139.0 - - [19/Dec/2020:13:57:26 +0100] \"GET /index.php?option=com_phocagallery&view=category&id=1:almhuette-raith&Itemid=53 HTTP/1.1\" 200 32653 \"-\" \"Mozilla/5.0 (compatible; bingbot/2.0; +http://www.bing.com/bingbot.htm)\" \"-\"\\n'"
      ]
     },
     "execution_count": 4,
     "metadata": {},
     "output_type": "execute_result"
    }
   ],
   "source": [
    "lines[1]"
   ]
  },
  {
   "cell_type": "code",
   "execution_count": 5,
   "metadata": {},
   "outputs": [],
   "source": [
    "# Используем регулярное выражение для поиска IP в строках (ПРОГУГЛИЛ)\n",
    "ip_pattern = r'((?:25[0-5]|2[0-4][0-9]|[01]?[0-9][0-9]?\\.){3}(?:(?:25[0-5]|2[0-4][0-9]|[01]?[0-9][0-9]?)))'"
   ]
  },
  {
   "cell_type": "code",
   "execution_count": 6,
   "metadata": {},
   "outputs": [],
   "source": [
    "ip_addresses = []\n",
    "for log_line in lines:\n",
    "    ips_in_line = re.findall(ip_pattern, log_line)\n",
    "    ip_addresses.extend(ips_in_line)"
   ]
  },
  {
   "cell_type": "code",
   "execution_count": 7,
   "metadata": {
    "scrolled": true
   },
   "outputs": [
    {
     "data": {
      "text/plain": [
       "['13.66.139.0',\n",
       " '157.48.153.185',\n",
       " '157.48.153.185',\n",
       " '54.36.148.92',\n",
       " '92.101.35.224',\n",
       " '73.166.162.225',\n",
       " '73.166.162.225',\n",
       " '54.36.148.108',\n",
       " '54.36.148.1',\n",
       " '11.9.4.97']"
      ]
     },
     "execution_count": 7,
     "metadata": {},
     "output_type": "execute_result"
    }
   ],
   "source": [
    "ip_addresses[:10]"
   ]
  },
  {
   "cell_type": "markdown",
   "metadata": {},
   "source": [
    "Топ 5 самых встречающихся IP:"
   ]
  },
  {
   "cell_type": "code",
   "execution_count": 8,
   "metadata": {
    "scrolled": false
   },
   "outputs": [
    {
     "name": "stdout",
     "output_type": "stream",
     "text": [
      "193.106.31.130 : 44978\n",
      "178.44.47.170 : 2824\n",
      "45.15.143.155 : 1927\n",
      "45.144.0.179 : 946\n",
      "45.138.4.22 : 880\n"
     ]
    }
   ],
   "source": [
    "from collections import Counter\n",
    "\n",
    "counts = Counter(ip_addresses)\n",
    "\n",
    "top_5_ip = counts.most_common(5)\n",
    "\n",
    "for ip, count in top_5_ip:\n",
    "    print(f\"{ip} : {count}\")"
   ]
  },
  {
   "cell_type": "markdown",
   "metadata": {},
   "source": [
    "Кол-во уникальных IP (ключей в каунтере):"
   ]
  },
  {
   "cell_type": "code",
   "execution_count": 9,
   "metadata": {
    "scrolled": true
   },
   "outputs": [
    {
     "data": {
      "text/plain": [
       "1460"
      ]
     },
     "execution_count": 9,
     "metadata": {},
     "output_type": "execute_result"
    }
   ],
   "source": [
    "len(counts.keys())"
   ]
  },
  {
   "cell_type": "markdown",
   "metadata": {},
   "source": [
    "**Реализация через Pandas (более кривая)**"
   ]
  },
  {
   "cell_type": "code",
   "execution_count": 10,
   "metadata": {},
   "outputs": [
    {
     "name": "stderr",
     "output_type": "stream",
     "text": [
      "/var/folders/z9/mv9ft52d0xjdby04_kkqsbfm0000gn/T/ipykernel_28961/1259713594.py:1: ParserWarning: Falling back to the 'python' engine because the 'c' engine does not support regex separators (separators > 1 char and different from '\\s+' are interpreted as regex); you can avoid this warning by specifying engine='python'.\n",
      "  pd.read_csv('access_log.txt', sep='- -', index_col=None, header=None)[0].value_counts().head(5)\n"
     ]
    },
    {
     "data": {
      "text/plain": [
       "193.106.31.130     44978\n",
       "173.255.176.5       5220\n",
       "178.44.47.170       2824\n",
       "51.210.183.78       2684\n",
       "45.15.143.155       1927\n",
       "Name: 0, dtype: int64"
      ]
     },
     "execution_count": 10,
     "metadata": {},
     "output_type": "execute_result"
    }
   ],
   "source": [
    "pd.read_csv('access_log.txt', sep='- -', index_col=None, header=None)[0].value_counts().head(5)"
   ]
  },
  {
   "cell_type": "markdown",
   "metadata": {},
   "source": [
    "# Задача 2. Класс\n",
    "\n",
    "Напишите класс для интегрирования функций одной переменной без особенностей на конечном интервале. \n",
    "Что у класса должно быть: \n",
    "    \n",
    "1. Выбор способа интегрирование: `trapeze` и `rectangle` (интегрирование методом трапеций и прямоугольников соответственно)\n",
    "    \n",
    "2. Явное указание интервала интегрирования и количества отрезков, на которые этот интервал разбивается\n",
    "\n",
    "3. Возможность передать любую функцию одной переменной (которая на вход принимает вещественное число и возвращает тоже вещественное число), предполагается, что функция особенностей не имеет\n",
    "\n",
    "\n",
    "Пример вызова:\n",
    "\n",
    "    trapeze_integrator = Integrator(-1, 1, 1000, 'trapeze')\n",
    "\n",
    "    x3 = lambda x: x\\*\\*3\n",
    "\n",
    "    trapeze_integrator.integrate(x3)\n",
    "    \n",
    "Ну и результат такого интегрирования должен быть разумным) Для примера должно получиться что-то около 0."
   ]
  },
  {
   "cell_type": "code",
   "execution_count": 11,
   "metadata": {},
   "outputs": [],
   "source": [
    "class Integrator:\n",
    "    def __init__(self, a, b, n, method='trapeze'):\n",
    "        self.a = a  # Начальная точка интервала\n",
    "        self.b = b  # Конечная точка интервала\n",
    "        self.n = n  # Количество отрезков разбиения\n",
    "        self.method = method  # Метод интегрирования (trapeze или rectangle)\n",
    "\n",
    "    def integrate(self, func):\n",
    "        if self.method == 'trapeze':\n",
    "            return self.trapeze_integration(func)\n",
    "        elif self.method == 'rectangle':\n",
    "            return self.rectangle_integration(func)\n",
    "        else:\n",
    "            raise ValueError(\"Unsupported integration method\")\n",
    "\n",
    "    def trapeze_integration(self, func):\n",
    "        h = (self.b - self.a) / self.n\n",
    "        result = 0.5 * (func(self.a) + func(self.b))\n",
    "\n",
    "        for i in range(1, self.n):\n",
    "            result += func(self.a + i * h)\n",
    "\n",
    "        return h * result\n",
    "\n",
    "    def rectangle_integration(self, func):\n",
    "        h = (self.b - self.a) / self.n\n",
    "        result = 0\n",
    "\n",
    "        for i in range(self.n):\n",
    "            result += func(self.a + i * h)\n",
    "\n",
    "        return h * result"
   ]
  },
  {
   "cell_type": "code",
   "execution_count": 12,
   "metadata": {},
   "outputs": [
    {
     "data": {
      "text/plain": [
       "4.529709940470639e-17"
      ]
     },
     "execution_count": 12,
     "metadata": {},
     "output_type": "execute_result"
    }
   ],
   "source": [
    "# Пример:\n",
    "trapeze_integrator = Integrator(-1, 1, 1000, 'trapeze')\n",
    "x3 = lambda x: x**3\n",
    "\n",
    "trapeze_integrator.integrate(x3)\n"
   ]
  },
  {
   "cell_type": "markdown",
   "metadata": {},
   "source": [
    "# Задача 3. NumPy\n",
    "\n",
    "Вам дан массив с числами размера $x*n$ (это размер столбца) на $m$. Напишите функцию `bucket_aggregate(arr: np.array, x: int)-> np.array`, которая делает следующее преобразование:\n",
    "\n",
    "Каждый столбец разбивается на x бакетов одинаковой длины n и внутри каждого бакета считается среднее значение.\n",
    "На выходе получается массив размера $n$ на $m$. Гарантируется, что длина столбца входного массива нацело делится на x. (\"корректную\" работу для массива 10\\*10 и 3 бакетов предусматривать не обязательно). Ошибки вычислений, связанные с ограниченной точностью типа Float, пытаться вылечить не обязательно.\n",
    "\n",
    "**Пример**\n",
    "\n",
    "**Вход**\n",
    "\n",
    "Массив **a**\n",
    "\n",
    "1 1 1\n",
    "\n",
    "2 3 3\n",
    "\n",
    "4 5 6\n",
    " \n",
    "1 2 3\n",
    "\n",
    "\n",
    "**Применение**\n",
    "\n",
    "    bucket_aggregate(a, 2)\n",
    "    \n",
    "**Выход**\n",
    "\n",
    "1.5 2   2\n",
    "\n",
    "2.5 3.5 4.5\n",
    "\n"
   ]
  },
  {
   "cell_type": "code",
   "execution_count": 13,
   "metadata": {},
   "outputs": [
    {
     "data": {
      "text/plain": [
       "array([[1.5, 2. , 2. ],\n",
       "       [2.5, 3.5, 4.5]])"
      ]
     },
     "execution_count": 13,
     "metadata": {},
     "output_type": "execute_result"
    }
   ],
   "source": [
    "def bucket_aggregate(arr: np.array, x: int) -> np.array:\n",
    "    n, m = arr.shape\n",
    "    bucket_size = n // x\n",
    "    result = np.zeros((x, m), dtype=float)\n",
    "\n",
    "    for i in range(x):\n",
    "        start = i * bucket_size\n",
    "        end = start + bucket_size\n",
    "        result[i] = np.mean(arr[start:end], axis=0)\n",
    "\n",
    "    return result\n",
    "\n",
    "# Пример:\n",
    "a = np.array([[1, 1, 1], [2, 3, 3], [4, 5, 6], [1, 2, 3]])\n",
    "x = 2\n",
    "\n",
    "bucket_aggregate(a, x)"
   ]
  },
  {
   "cell_type": "markdown",
   "metadata": {},
   "source": [
    "# Задача 4. Про pandas\n",
    "\n",
    "Дан датафрейм, содержащий распаршенную с сайта reverb информацию об объявлениях о продаже электрогитар.\n",
    "Поля там такие:\n",
    "\n",
    "`title` - заголовок объявления\n",
    "`description` и `text` - что-то из описания объявления\n",
    "`price` - цена в долларах\n",
    "`params_dict` - словарь параметров (чтобы считать его, можете воспользоваться `eval`)\n",
    "\n",
    "Вопросы:\n",
    "\n",
    "1. Сколько возможных ключей есть в params_dict\n",
    "2. Какой инструмент самый дорогой и сколько он стоит\n",
    "3. Какой самый частый бренд (если известен)\n",
    "4. Можно ли сказать, что стоимость инструмента брендов Fender и Gibson зависит от года производства? если да, то как? (ответом будет график)\n"
   ]
  },
  {
   "cell_type": "code",
   "execution_count": 14,
   "metadata": {},
   "outputs": [
    {
     "name": "stdout",
     "output_type": "stream",
     "text": [
      "DA_test.ipynb  access_log.txt reverb.csv\r\n"
     ]
    }
   ],
   "source": [
    "!ls"
   ]
  },
  {
   "cell_type": "code",
   "execution_count": 15,
   "metadata": {
    "scrolled": true
   },
   "outputs": [
    {
     "data": {
      "text/html": [
       "<div>\n",
       "<style scoped>\n",
       "    .dataframe tbody tr th:only-of-type {\n",
       "        vertical-align: middle;\n",
       "    }\n",
       "\n",
       "    .dataframe tbody tr th {\n",
       "        vertical-align: top;\n",
       "    }\n",
       "\n",
       "    .dataframe thead th {\n",
       "        text-align: right;\n",
       "    }\n",
       "</style>\n",
       "<table border=\"1\" class=\"dataframe\">\n",
       "  <thead>\n",
       "    <tr style=\"text-align: right;\">\n",
       "      <th></th>\n",
       "      <th>title</th>\n",
       "      <th>description</th>\n",
       "      <th>text</th>\n",
       "      <th>param_dict</th>\n",
       "      <th>price</th>\n",
       "    </tr>\n",
       "  </thead>\n",
       "  <tbody>\n",
       "    <tr>\n",
       "      <th>0</th>\n",
       "      <td>Fender American Standard Stratocaster [XIX19] ...</td>\n",
       "      <td>Welcome to Qsic's Reverb Shop!1. The descripti...</td>\n",
       "      <td>Welcome to Qsic's Reverb Shop!1. The descripti...</td>\n",
       "      <td>{'Condition': 'Very Good (Used)Very Good items...</td>\n",
       "      <td>$1,131.92</td>\n",
       "    </tr>\n",
       "    <tr>\n",
       "      <th>1</th>\n",
       "      <td>Fender \"American Vintage II 1951 Telecaster\" 3...</td>\n",
       "      <td>The Fender® American Vintage II series present...</td>\n",
       "      <td>The Fender® American Vintage II series present...</td>\n",
       "      <td>{'Condition': 'Brand New (New)Brand New items ...</td>\n",
       "      <td>$1,935.55</td>\n",
       "    </tr>\n",
       "    <tr>\n",
       "      <th>2</th>\n",
       "      <td>Rebel Custom Guitars Funky Claude 2022 - Hydro...</td>\n",
       "      <td>Stratocaster Style Custom Guitar by Rebel Cust...</td>\n",
       "      <td>Stratocaster Style Custom Guitar by Rebel Cust...</td>\n",
       "      <td>{'Condition': 'Brand New (New)Brand New items ...</td>\n",
       "      <td>$1,055.53</td>\n",
       "    </tr>\n",
       "    <tr>\n",
       "      <th>3</th>\n",
       "      <td>Fender AMERICAN PROFESSIONAL Stratocaster [MJ8...</td>\n",
       "      <td>Welcome to Qsic's Reverb Shop!1. The descripti...</td>\n",
       "      <td>Welcome to Qsic's Reverb Shop!1. The descripti...</td>\n",
       "      <td>{'Condition': 'Very Good (Used)Very Good items...</td>\n",
       "      <td>$1,290.62</td>\n",
       "    </tr>\n",
       "    <tr>\n",
       "      <th>4</th>\n",
       "      <td>G&amp;L S-500 Premium C.F.S [MJ724] | Reverb</td>\n",
       "      <td>Welcome to Qsic's Reverb Shop!1. The descripti...</td>\n",
       "      <td>Welcome to Qsic's Reverb Shop!1. The descripti...</td>\n",
       "      <td>{'Condition': 'Very Good (Used)Very Good items...</td>\n",
       "      <td>$575.55</td>\n",
       "    </tr>\n",
       "  </tbody>\n",
       "</table>\n",
       "</div>"
      ],
      "text/plain": [
       "                                               title  \\\n",
       "0  Fender American Standard Stratocaster [XIX19] ...   \n",
       "1  Fender \"American Vintage II 1951 Telecaster\" 3...   \n",
       "2  Rebel Custom Guitars Funky Claude 2022 - Hydro...   \n",
       "3  Fender AMERICAN PROFESSIONAL Stratocaster [MJ8...   \n",
       "4           G&L S-500 Premium C.F.S [MJ724] | Reverb   \n",
       "\n",
       "                                         description  \\\n",
       "0  Welcome to Qsic's Reverb Shop!1. The descripti...   \n",
       "1  The Fender® American Vintage II series present...   \n",
       "2  Stratocaster Style Custom Guitar by Rebel Cust...   \n",
       "3  Welcome to Qsic's Reverb Shop!1. The descripti...   \n",
       "4  Welcome to Qsic's Reverb Shop!1. The descripti...   \n",
       "\n",
       "                                                text  \\\n",
       "0  Welcome to Qsic's Reverb Shop!1. The descripti...   \n",
       "1  The Fender® American Vintage II series present...   \n",
       "2  Stratocaster Style Custom Guitar by Rebel Cust...   \n",
       "3  Welcome to Qsic's Reverb Shop!1. The descripti...   \n",
       "4  Welcome to Qsic's Reverb Shop!1. The descripti...   \n",
       "\n",
       "                                          param_dict      price  \n",
       "0  {'Condition': 'Very Good (Used)Very Good items...  $1,131.92  \n",
       "1  {'Condition': 'Brand New (New)Brand New items ...  $1,935.55  \n",
       "2  {'Condition': 'Brand New (New)Brand New items ...  $1,055.53  \n",
       "3  {'Condition': 'Very Good (Used)Very Good items...  $1,290.62  \n",
       "4  {'Condition': 'Very Good (Used)Very Good items...    $575.55  "
      ]
     },
     "execution_count": 15,
     "metadata": {},
     "output_type": "execute_result"
    }
   ],
   "source": [
    "df = pd.read_csv('reverb.csv', index_col = 0)\n",
    "df.head()"
   ]
  },
  {
   "cell_type": "code",
   "execution_count": 16,
   "metadata": {},
   "outputs": [
    {
     "data": {
      "text/plain": [
       "title          object\n",
       "description    object\n",
       "text           object\n",
       "param_dict     object\n",
       "price          object\n",
       "dtype: object"
      ]
     },
     "execution_count": 16,
     "metadata": {},
     "output_type": "execute_result"
    }
   ],
   "source": [
    "df.dtypes"
   ]
  },
  {
   "cell_type": "code",
   "execution_count": 17,
   "metadata": {},
   "outputs": [],
   "source": [
    "df['price'] = df['price'].map(lambda x: float(x.replace('$', '').replace(',', '')))"
   ]
  },
  {
   "cell_type": "code",
   "execution_count": 18,
   "metadata": {},
   "outputs": [],
   "source": [
    "def parse_dict(string_dict):\n",
    "    try:\n",
    "        return eval(string_dict)\n",
    "    except (SyntaxError, NameError):\n",
    "        return None  # Handle parsing errors gracefully\n",
    "\n",
    "df['param_dict'] = df['param_dict'].apply(parse_dict)"
   ]
  },
  {
   "cell_type": "code",
   "execution_count": 19,
   "metadata": {},
   "outputs": [],
   "source": [
    "dict_series = df.param_dict"
   ]
  },
  {
   "cell_type": "code",
   "execution_count": 20,
   "metadata": {},
   "outputs": [],
   "source": [
    "df = df.drop('param_dict', axis=1).merge(df['param_dict'].apply(pd.Series), left_index=True, right_index=True)"
   ]
  },
  {
   "cell_type": "code",
   "execution_count": 21,
   "metadata": {},
   "outputs": [],
   "source": [
    "params_dict = {}  # Создаем пустой словарь\n",
    "\n",
    "for i in dict_series:\n",
    "    for key, value in i.items():\n",
    "        if key in params_dict:\n",
    "            params_dict[key].append(value)  # Если ключ уже существует, добавляем значение в список\n",
    "        else:\n",
    "            params_dict[key] = [value]  # Если ключа нет в словаре, создаем новую запись"
   ]
  },
  {
   "cell_type": "markdown",
   "metadata": {},
   "source": [
    "**Сколько возможных ключей есть в params_dict:**"
   ]
  },
  {
   "cell_type": "code",
   "execution_count": 22,
   "metadata": {
    "scrolled": true
   },
   "outputs": [
    {
     "data": {
      "text/plain": [
       "dict_keys(['Condition', 'Brand', 'Model', 'Categories', 'Year', 'Fretboard Material', 'Pickup Configuration', 'Color Family', 'Right / Left Handed', 'Body Shape', 'Number of Strings', 'Fretboard Radius', 'Neck Material', 'Offset Body', 'Finish Style', 'Body Type', 'Body Material', 'Series', 'Bridge/Tailpiece Type', 'Wood Top Style', 'Nut Width', 'Model Family', 'Scale Length', 'Neck Construction', 'Number of Frets', 'Made In', 'Finish', 'Product Family', 'Artist', 'Frets', 'Top Material', 'Finish Features', 'Model Sub-Family'])"
      ]
     },
     "execution_count": 22,
     "metadata": {},
     "output_type": "execute_result"
    }
   ],
   "source": [
    "params_dict.keys()"
   ]
  },
  {
   "cell_type": "code",
   "execution_count": 23,
   "metadata": {
    "scrolled": true
   },
   "outputs": [
    {
     "data": {
      "text/plain": [
       "33"
      ]
     },
     "execution_count": 23,
     "metadata": {},
     "output_type": "execute_result"
    }
   ],
   "source": [
    "len(params_dict.keys())"
   ]
  },
  {
   "cell_type": "markdown",
   "metadata": {},
   "source": [
    "**Какой инструмент самый дорогой и сколько он стоит:**"
   ]
  },
  {
   "cell_type": "code",
   "execution_count": 24,
   "metadata": {},
   "outputs": [
    {
     "data": {
      "text/html": [
       "<div>\n",
       "<style scoped>\n",
       "    .dataframe tbody tr th:only-of-type {\n",
       "        vertical-align: middle;\n",
       "    }\n",
       "\n",
       "    .dataframe tbody tr th {\n",
       "        vertical-align: top;\n",
       "    }\n",
       "\n",
       "    .dataframe thead th {\n",
       "        text-align: right;\n",
       "    }\n",
       "</style>\n",
       "<table border=\"1\" class=\"dataframe\">\n",
       "  <thead>\n",
       "    <tr style=\"text-align: right;\">\n",
       "      <th></th>\n",
       "      <th>title</th>\n",
       "      <th>description</th>\n",
       "      <th>text</th>\n",
       "      <th>price</th>\n",
       "      <th>Condition</th>\n",
       "      <th>Brand</th>\n",
       "      <th>Model</th>\n",
       "      <th>Made In</th>\n",
       "    </tr>\n",
       "  </thead>\n",
       "  <tbody>\n",
       "    <tr>\n",
       "      <th>17127</th>\n",
       "      <td>Eric Clapton | Reverb</td>\n",
       "      <td>A unique offer for the complete collection of ...</td>\n",
       "      <td>A unique offer for the complete collection of ...</td>\n",
       "      <td>387363.74</td>\n",
       "      <td>Mint (Used)Mint items are in essentially new o...</td>\n",
       "      <td>Gibson</td>\n",
       "      <td>Eric Clapton</td>\n",
       "      <td>United States</td>\n",
       "    </tr>\n",
       "  </tbody>\n",
       "</table>\n",
       "</div>"
      ],
      "text/plain": [
       "                       title  \\\n",
       "17127  Eric Clapton | Reverb   \n",
       "\n",
       "                                             description  \\\n",
       "17127  A unique offer for the complete collection of ...   \n",
       "\n",
       "                                                    text      price  \\\n",
       "17127  A unique offer for the complete collection of ...  387363.74   \n",
       "\n",
       "                                               Condition   Brand  \\\n",
       "17127  Mint (Used)Mint items are in essentially new o...  Gibson   \n",
       "\n",
       "              Model        Made In  \n",
       "17127  Eric Clapton  United States  "
      ]
     },
     "execution_count": 24,
     "metadata": {},
     "output_type": "execute_result"
    }
   ],
   "source": [
    "df[df['price'] == df['price'].max()].dropna(axis=1)"
   ]
  },
  {
   "cell_type": "markdown",
   "metadata": {},
   "source": [
    "**Какой самый частый бренд (если известен)**"
   ]
  },
  {
   "cell_type": "code",
   "execution_count": 25,
   "metadata": {},
   "outputs": [
    {
     "data": {
      "text/plain": [
       "Fender      3250\n",
       "Gibson      2237\n",
       "Ibanez      1006\n",
       "PRS          796\n",
       "Epiphone     640\n",
       "Name: Brand, dtype: int64"
      ]
     },
     "execution_count": 25,
     "metadata": {},
     "output_type": "execute_result"
    }
   ],
   "source": [
    "df['Brand'].value_counts().head()"
   ]
  },
  {
   "cell_type": "markdown",
   "metadata": {},
   "source": [
    "**Можно ли сказать, что стоимость инструмента брендов Fender и Gibson зависит от года производства? если да, то как? (ответом будет график)**"
   ]
  },
  {
   "cell_type": "code",
   "execution_count": 26,
   "metadata": {},
   "outputs": [],
   "source": [
    "df_brand_price = df.loc[:, ['price', 'Brand', 'Year']]\n",
    "df_brand_price = df_brand_price[df_brand_price['Brand'].isin(['Fender', 'Gibson'])]\n",
    "df_brand_price = df_brand_price.dropna(axis=0)"
   ]
  },
  {
   "cell_type": "code",
   "execution_count": 27,
   "metadata": {
    "scrolled": false
   },
   "outputs": [
    {
     "data": {
      "text/plain": [
       "array(['2008', '2017', '2012', '2006', '2022', '2020', '2002 - 2008',\n",
       "       '1977', '2005', '1961', '1994', '1979', '2021', '2018', '1968',\n",
       "       '1977 - 1979', '1993', '1990', '2011', '1998 - 2006',\n",
       "       '1998 - 2005', '2023', '1984', '1966', '2007', '2015', '2010',\n",
       "       '2013', '1998', '1992', '1962', '2001 - Present', '2010 - 2011',\n",
       "       \"1990's\", '1991', '2013 - 2017', '1989-90', '2016', '1964 - 1969',\n",
       "       '1975', '1954', '1951', '2014', '1985', '2002 - 2005', '1965',\n",
       "       '1978', '1988', '1953', '1972', '2000s', '1996', '2018 - Present',\n",
       "       '1958', '1993-1994', '1970', '1974', '1997', '2004', '1950 - 1962',\n",
       "       '2000s ', '1967', '2002', '1985-1986', '1981', '1993 - 1996',\n",
       "       '2012 - 2018', '2019 - Present', '1999', '1967 ', '1983', '2019',\n",
       "       '1994-1995', '1982', ' 1974', '1964', '1995', '2006 - 2008',\n",
       "       '2008 - 2012', '1957', '2020 - Present', '1989', '2008 2009',\n",
       "       '2009', '2012 ', '1969', '1963 - 1965', \"1950's\", '2009 - 2017',\n",
       "       '2010’s', '1971', '2003', '1959', '2012 - 2015', '1992 ',\n",
       "       '2005 - 2008', '1995-96', '1984-88', '2000', '1987', '1990-2005',\n",
       "       '1956', '1991 - 2014', '1972 ', '1980', '1969 - 1971', '1980-1990',\n",
       "       '1993-94', '2010s', '2018 - 2020', '1970 - 1985', '2003 ', '1990s',\n",
       "       '2006 + 2014', '2017 - 2019', '1978 - 1981', '1969 - 1984',\n",
       "       'Late 90s', '1974 - 1985', '1972 - 1980', '2010 - Present',\n",
       "       '2015 ', '2011 - 2016', '2004 - 2012', '2022 - Present', '1960',\n",
       "       'SG', '1997 - 2006', '1960 - 1970', '1970 - 1975', '2008 ',\n",
       "       ' Custom Shop   1992', '1972 - 1977', '2016 - 2018', '1963',\n",
       "       '1996 - 2006', '2006-2007', '2000/2001', '1992 - 1999',\n",
       "       '1967 - 1969', \"1930's\", '2005 2006', '2004 ', '2021 - Present',\n",
       "       '2016 - 2019', '2000 - 2012', '1991 - 2003', '1971 - 1977',\n",
       "       '2012 - 2014', '1950s', '80s-93', '1977  S/No. S 7 05800',\n",
       "       '1993 (1968 Replica)', \"1980's\", '2012 - 2013', '2001', '1976',\n",
       "       '2022 ', '1973', '2004-2005', '1955', '1990 - 2001', '1986',\n",
       "       '1995 - 2022', '1970 - 1981', '1991 - 1993', '1997-1998',\n",
       "       '1988-1998', '1979-1980', 'Vintage 1976', '1995-1996',\n",
       "       '1966 - 1972', '2014 ', '2008-2014', '2000’s', '1991 - 2012',\n",
       "       '1998 - 1999', '1998 - 2000', '1989-1990', '2012??', '2002 - 2019',\n",
       "       '1986 - 1991', '1981-1988', '1997-98', '1995 - 1997', '2007-2010',\n",
       "       '90s', '1980s', '1989 - 1992', '1990 - 2011', '2009 - 2014',\n",
       "       '2002 - 2015', '1990 - 2008', '2011 ', '1999 - 2006', '1961 ',\n",
       "       'Recent/1966', '1973 - 1980', '1958 - 1961', '2008 - 2016',\n",
       "       '2010 - 2018', '1968 - 1969', '2000 - 10 - 6 (280. Tag)', '2013 ',\n",
       "       '1975 ', '2010 - 2015', '2000 - 2018', '1961 - 1966',\n",
       "       '1989 - 1994', '1964 - 1966', '2000 - 2006', '2013 - Present',\n",
       "       '1979-1982', '1961 - 1963', '1946', '2006 - 2017', '1979 ',\n",
       "       '1988-89', '1999-2002', '2013 - 2014', '1956 - 1979',\n",
       "       '2003 - 2007', '2005 - 2016', '2011-2012', '2018 - 2022',\n",
       "       '1976 - 1980', '1995-95', '2005-06', '1984 - 1989', '2010-2011',\n",
       "       '1991 - 2000', \"2000's\", '2010-2014', ' 2022 ', '2002 - 2003',\n",
       "       '1996-1999', '2002-2004', '1964-65', '1976 - 1979', '1990-1999??',\n",
       "       '1938', '1954 - 1959', '2019 ', '1959 (2006)', '1992 - Present',\n",
       "       '2002 -2004', '2005-2015', '1991 - 2009', '2000 - 2016',\n",
       "       '1995 - 2011', '1998 - 2011', '2016-2017', '2019 - 2021',\n",
       "       '1991 - 2016', 'April 2019', '2003 - 2006', '1995 - 1998',\n",
       "       '2011 - 2013', '1958 (Reissue)', '2009 - 2016', '1978 - 1980',\n",
       "       '6/13 /2000', '1958 - 1964 - 1965', '1986 - 1990', '1959 ',\n",
       "       '1950s-1964', '2004 - 2019', '1990 - 1993', '1952', '1980/81',\n",
       "       '2006 - 2012', '1988  2006', '1970-71', '2012/2013',\n",
       "       '2021 75th anniversary ', '1950', '2007 - 2013', '1992-1996',\n",
       "       '1957 - 1971', '1957 - 1969', '1982 - 1984', '1983 ',\n",
       "       '1973 - 1981', '1990-2002', '2012 - Present', '2008 - 2015',\n",
       "       '1996 - 1998', '1985 - 86', '1971 - 1972', '1994+1995',\n",
       "       '1992 - 1996', '2014en ', '1975-1976', '1983 - 1984',\n",
       "       '1977 - 1980', '1990-91', '1999 - 2018', '2000 - 2009',\n",
       "       '1968 - 1975', '1940', '1959 - 1960', '2010 ', '2020s',\n",
       "       '1996 - 2015', '2006 ', '1986 - 1989', '1985-86', '1976 - 1985',\n",
       "       '2013 - 2015', '2009 - 2012', '2000-2001', '1964 - 1980',\n",
       "       '2004 - 2007', '1984-1987', '2002 - 2004', '2016 - Present',\n",
       "       'Dan Smith era', '1970 - 1972', '1961 - 1972', 'June 1994',\n",
       "       '1972 - 1985', '1989/90', '1960s', '1992-93', '1978 - 1979',\n",
       "       'fits all?', '1974 ', '1972 - 1979', '1989 - 1995', '1980 ',\n",
       "       '1965 - 1970', '1979 - 1982', ' 2012', '2020 - 2021',\n",
       "       '2011 - 2014', '2009-2014', '1984-87', '1996 - 2004', '2002-2003',\n",
       "       '1980s ', '2004 - 2021', '1968 ', '2007 - 2014', '2010 - 2020',\n",
       "       '2007 - 2008', '1963 - 1969', '2004 - 2008', '2001 - 2004', '62',\n",
       "       '2012?', '1989 ', '1988 - 1999', '2014 - 2015', '2010-2018',\n",
       "       '2006 - 2011', '2008 - 2021', '1', '60s', '2015 - Present',\n",
       "       '2018 ', '1971 - 1979', '1980 - 1981', '2004 - 2010',\n",
       "       'Early 1990s', '2018/19 ', '1985 - 1987', '1978/79', '1996 - 2009',\n",
       "       '2023 - Present', '1990 - 2005', '1966 - 1969', '1946 - 1956',\n",
       "       '  1968 ', '1987 - 1998', '2002 - 2017', '2003 - Present',\n",
       "       '1995 ?', '1997 ', '1994-95', '2010 - 2012', '1990s ',\n",
       "       '2014 - 2017', '2006-2008', '1959 - 1961', \"60s - 70's\",\n",
       "       '2006 - 2014', '2016 - 2017', '1959-63', '1955 - 1958',\n",
       "       '2017 - 2018', '2004-06', '2004 - 2006', '1997-2000',\n",
       "       '1980 - 1983', '2008 February ', '1995 - 2001', '1974/1975',\n",
       "       '2017 - 2022', '1980～1981', '1976 ', '02/Nov/63', '2009 - 2011',\n",
       "       '1977 - 1978', '2006 - 2007', '2010-12', '2010-11', '1961 Reissue',\n",
       "       \"70's\", '1973 - 1978', '1993 - 2016', '1981 - 1985', '2007 - 2009',\n",
       "       '1950’s ', '1981-2', '1992-1999', '1970-1975', '1973 - 1977',\n",
       "       '1936 - 1940 ', '80’s-90’s', '2020/1', '1962 - 1969',\n",
       "       '1958 - 1962', '1966 - 1971', '2009 - 2018', '1982 ', '2017-2018',\n",
       "       ' 1984 ', '62/63’', '1972 - 1978', '2020 ', '2005-2008',\n",
       "       '2000 - 2011', '1970 - 1979', '2011 - 2012', '1965 - 1975',\n",
       "       '1973 - 1979', '2007 ', '2000~around2010', '2006-08', '2016-2018',\n",
       "       '2002-2004 ', '2021 ', '1985 - 1989', '1962 - 1963', '2010-2012',\n",
       "       '2003 - 2011', '2000 - 2007', '1974 - 1978', '1984 1987'],\n",
       "      dtype=object)"
      ]
     },
     "execution_count": 27,
     "metadata": {},
     "output_type": "execute_result"
    }
   ],
   "source": [
    "df_brand_price['Year'].unique()"
   ]
  },
  {
   "cell_type": "markdown",
   "metadata": {},
   "source": [
    "Тут я выбираю четыре последние подрядыдущие цифры в строке (для кейсов когда есть встречаются два года). Выбрал такой вариант так как,мне кажается что год выпуска это именно последний год в интервале производства."
   ]
  },
  {
   "cell_type": "code",
   "execution_count": 28,
   "metadata": {},
   "outputs": [],
   "source": [
    "df_brand_price['Year'] = df_brand_price['Year'].apply(lambda x: re.findall(r'\\d{4}(?=\\D*$)', x) or None)"
   ]
  },
  {
   "cell_type": "code",
   "execution_count": 29,
   "metadata": {},
   "outputs": [],
   "source": [
    "df_brand_price.dropna(inplace=True)"
   ]
  },
  {
   "cell_type": "code",
   "execution_count": 30,
   "metadata": {
    "scrolled": false
   },
   "outputs": [
    {
     "data": {
      "text/html": [
       "<div>\n",
       "<style scoped>\n",
       "    .dataframe tbody tr th:only-of-type {\n",
       "        vertical-align: middle;\n",
       "    }\n",
       "\n",
       "    .dataframe tbody tr th {\n",
       "        vertical-align: top;\n",
       "    }\n",
       "\n",
       "    .dataframe thead th {\n",
       "        text-align: right;\n",
       "    }\n",
       "</style>\n",
       "<table border=\"1\" class=\"dataframe\">\n",
       "  <thead>\n",
       "    <tr style=\"text-align: right;\">\n",
       "      <th></th>\n",
       "      <th>price</th>\n",
       "      <th>Brand</th>\n",
       "      <th>Year</th>\n",
       "    </tr>\n",
       "  </thead>\n",
       "  <tbody>\n",
       "    <tr>\n",
       "      <th>0</th>\n",
       "      <td>1131.92</td>\n",
       "      <td>Fender</td>\n",
       "      <td>2008</td>\n",
       "    </tr>\n",
       "    <tr>\n",
       "      <th>3</th>\n",
       "      <td>1290.62</td>\n",
       "      <td>Fender</td>\n",
       "      <td>2017</td>\n",
       "    </tr>\n",
       "    <tr>\n",
       "      <th>6</th>\n",
       "      <td>2185.94</td>\n",
       "      <td>Fender</td>\n",
       "      <td>2012</td>\n",
       "    </tr>\n",
       "    <tr>\n",
       "      <th>18</th>\n",
       "      <td>5294.29</td>\n",
       "      <td>Gibson</td>\n",
       "      <td>2006</td>\n",
       "    </tr>\n",
       "    <tr>\n",
       "      <th>19</th>\n",
       "      <td>2151.87</td>\n",
       "      <td>Fender</td>\n",
       "      <td>2022</td>\n",
       "    </tr>\n",
       "    <tr>\n",
       "      <th>...</th>\n",
       "      <td>...</td>\n",
       "      <td>...</td>\n",
       "      <td>...</td>\n",
       "    </tr>\n",
       "    <tr>\n",
       "      <th>19503</th>\n",
       "      <td>2801.55</td>\n",
       "      <td>Fender</td>\n",
       "      <td>2022</td>\n",
       "    </tr>\n",
       "    <tr>\n",
       "      <th>19507</th>\n",
       "      <td>1149.56</td>\n",
       "      <td>Fender</td>\n",
       "      <td>2022</td>\n",
       "    </tr>\n",
       "    <tr>\n",
       "      <th>19512</th>\n",
       "      <td>1790.00</td>\n",
       "      <td>Gibson</td>\n",
       "      <td>2008</td>\n",
       "    </tr>\n",
       "    <tr>\n",
       "      <th>19513</th>\n",
       "      <td>1253.24</td>\n",
       "      <td>Fender</td>\n",
       "      <td>2005</td>\n",
       "    </tr>\n",
       "    <tr>\n",
       "      <th>19514</th>\n",
       "      <td>1700.00</td>\n",
       "      <td>Gibson</td>\n",
       "      <td>1977</td>\n",
       "    </tr>\n",
       "  </tbody>\n",
       "</table>\n",
       "<p>4114 rows × 3 columns</p>\n",
       "</div>"
      ],
      "text/plain": [
       "         price   Brand  Year\n",
       "0      1131.92  Fender  2008\n",
       "3      1290.62  Fender  2017\n",
       "6      2185.94  Fender  2012\n",
       "18     5294.29  Gibson  2006\n",
       "19     2151.87  Fender  2022\n",
       "...        ...     ...   ...\n",
       "19503  2801.55  Fender  2022\n",
       "19507  1149.56  Fender  2022\n",
       "19512  1790.00  Gibson  2008\n",
       "19513  1253.24  Fender  2005\n",
       "19514  1700.00  Gibson  1977\n",
       "\n",
       "[4114 rows x 3 columns]"
      ]
     },
     "execution_count": 30,
     "metadata": {},
     "output_type": "execute_result"
    }
   ],
   "source": [
    "df_brand_price['Year'] = df_brand_price['Year'].apply(lambda x: int(x[0]))\n",
    "df_brand_price"
   ]
  },
  {
   "cell_type": "code",
   "execution_count": 31,
   "metadata": {},
   "outputs": [
    {
     "data": {
      "text/html": [
       "<div>\n",
       "<style scoped>\n",
       "    .dataframe tbody tr th:only-of-type {\n",
       "        vertical-align: middle;\n",
       "    }\n",
       "\n",
       "    .dataframe tbody tr th {\n",
       "        vertical-align: top;\n",
       "    }\n",
       "\n",
       "    .dataframe thead th {\n",
       "        text-align: right;\n",
       "    }\n",
       "</style>\n",
       "<table border=\"1\" class=\"dataframe\">\n",
       "  <thead>\n",
       "    <tr style=\"text-align: right;\">\n",
       "      <th></th>\n",
       "      <th>price</th>\n",
       "      <th>Year</th>\n",
       "    </tr>\n",
       "  </thead>\n",
       "  <tbody>\n",
       "    <tr>\n",
       "      <th>count</th>\n",
       "      <td>4114.000000</td>\n",
       "      <td>4114.000000</td>\n",
       "    </tr>\n",
       "    <tr>\n",
       "      <th>mean</th>\n",
       "      <td>4957.775105</td>\n",
       "      <td>2002.561011</td>\n",
       "    </tr>\n",
       "    <tr>\n",
       "      <th>std</th>\n",
       "      <td>7637.661663</td>\n",
       "      <td>62.387722</td>\n",
       "    </tr>\n",
       "    <tr>\n",
       "      <th>min</th>\n",
       "      <td>2.000000</td>\n",
       "      <td>1930.000000</td>\n",
       "    </tr>\n",
       "    <tr>\n",
       "      <th>25%</th>\n",
       "      <td>1595.000000</td>\n",
       "      <td>1988.000000</td>\n",
       "    </tr>\n",
       "    <tr>\n",
       "      <th>50%</th>\n",
       "      <td>2828.330000</td>\n",
       "      <td>2008.000000</td>\n",
       "    </tr>\n",
       "    <tr>\n",
       "      <th>75%</th>\n",
       "      <td>5099.112500</td>\n",
       "      <td>2018.000000</td>\n",
       "    </tr>\n",
       "    <tr>\n",
       "      <th>max</th>\n",
       "      <td>139995.000000</td>\n",
       "      <td>5800.000000</td>\n",
       "    </tr>\n",
       "  </tbody>\n",
       "</table>\n",
       "</div>"
      ],
      "text/plain": [
       "               price         Year\n",
       "count    4114.000000  4114.000000\n",
       "mean     4957.775105  2002.561011\n",
       "std      7637.661663    62.387722\n",
       "min         2.000000  1930.000000\n",
       "25%      1595.000000  1988.000000\n",
       "50%      2828.330000  2008.000000\n",
       "75%      5099.112500  2018.000000\n",
       "max    139995.000000  5800.000000"
      ]
     },
     "execution_count": 31,
     "metadata": {},
     "output_type": "execute_result"
    }
   ],
   "source": [
    "df_brand_price.describe()"
   ]
  },
  {
   "cell_type": "code",
   "execution_count": 32,
   "metadata": {},
   "outputs": [],
   "source": [
    "df_brand_price = df_brand_price[df_brand_price[\"Year\"]<= 2023]"
   ]
  },
  {
   "cell_type": "code",
   "execution_count": 33,
   "metadata": {
    "scrolled": true
   },
   "outputs": [
    {
     "name": "stderr",
     "output_type": "stream",
     "text": [
      "/var/folders/z9/mv9ft52d0xjdby04_kkqsbfm0000gn/T/ipykernel_28961/1078259571.py:1: FutureWarning: The default value of numeric_only in DataFrame.corr is deprecated. In a future version, it will default to False. Select only valid columns or specify the value of numeric_only to silence this warning.\n",
      "  df_brand_price.corr()\n"
     ]
    },
    {
     "data": {
      "text/html": [
       "<div>\n",
       "<style scoped>\n",
       "    .dataframe tbody tr th:only-of-type {\n",
       "        vertical-align: middle;\n",
       "    }\n",
       "\n",
       "    .dataframe tbody tr th {\n",
       "        vertical-align: top;\n",
       "    }\n",
       "\n",
       "    .dataframe thead th {\n",
       "        text-align: right;\n",
       "    }\n",
       "</style>\n",
       "<table border=\"1\" class=\"dataframe\">\n",
       "  <thead>\n",
       "    <tr style=\"text-align: right;\">\n",
       "      <th></th>\n",
       "      <th>price</th>\n",
       "      <th>Year</th>\n",
       "    </tr>\n",
       "  </thead>\n",
       "  <tbody>\n",
       "    <tr>\n",
       "      <th>price</th>\n",
       "      <td>1.000000</td>\n",
       "      <td>-0.376021</td>\n",
       "    </tr>\n",
       "    <tr>\n",
       "      <th>Year</th>\n",
       "      <td>-0.376021</td>\n",
       "      <td>1.000000</td>\n",
       "    </tr>\n",
       "  </tbody>\n",
       "</table>\n",
       "</div>"
      ],
      "text/plain": [
       "          price      Year\n",
       "price  1.000000 -0.376021\n",
       "Year  -0.376021  1.000000"
      ]
     },
     "execution_count": 33,
     "metadata": {},
     "output_type": "execute_result"
    }
   ],
   "source": [
    "df_brand_price.corr()"
   ]
  },
  {
   "cell_type": "code",
   "execution_count": 34,
   "metadata": {},
   "outputs": [
    {
     "name": "stdout",
     "output_type": "stream",
     "text": [
      "Корреляция между годом выпуска и ценой: -0.37602068421431767\n"
     ]
    }
   ],
   "source": [
    "correlation = df_brand_price['price'].corr(df_brand_price['Year'])\n",
    "print(f'Корреляция между годом выпуска и ценой: {correlation}')\n"
   ]
  },
  {
   "cell_type": "code",
   "execution_count": 35,
   "metadata": {},
   "outputs": [
    {
     "data": {
      "image/png": "[encoded data removed]",
      "text/plain": [
       "<Figure size 640x480 with 1 Axes>"
      ]
     },
     "metadata": {},
     "output_type": "display_data"
    }
   ],
   "source": [
    "plt.scatter(df_brand_price['Year'],\n",
    "            df_brand_price['price'],\n",
    "            s=3,\n",
    "            alpha=0.5)\n",
    "\n",
    "\n",
    "plt.xlabel('Год выпуска')\n",
    "plt.ylabel('Цена, $')\n",
    "plt.title('График зависимости между между годом выпуска и ценой')\n",
    "plt.show()"
   ]
  },
  {
   "cell_type": "markdown",
   "metadata": {},
   "source": [
    "# Задача 5. Про парсинг информации\n",
    "\n",
    "Есть сайт https://nplus1.ru/ , новости за дату на нем можно увидеть на страницах типа https://nplus1.ru/news/2023/03/28\n",
    "\n",
    "Используя парсер, посчитайте суммарную длину текстов статей (в количестве слов или в количестве символов, как вам будет удобнее), которые были на N+1 в списке новостей в Июле 2023 года (пройтись по всем датам июля, собрать тексты статей, посчитать длину в словах/символах). \n",
    "\n",
    "Пользуйтесь любыми удобными вам библиотеками"
   ]
  },
  {
   "cell_type": "code",
   "execution_count": 135,
   "metadata": {},
   "outputs": [],
   "source": [
    "import requests\n",
    "import seaborn as sns\n",
    "import json\n",
    "import pandas as pd\n",
    "import re\n",
    "import matplotlib.pyplot as plt\n",
    "import seaborn as sns\n",
    "\n",
    "from time import sleep\n",
    "from bs4 import BeautifulSoup"
   ]
  },
  {
   "cell_type": "code",
   "execution_count": 38,
   "metadata": {},
   "outputs": [],
   "source": [
    "def get_daily_links(month, day):\n",
    "    url = f'https://nplus1.ru/news/2023/{month:02d}/{day:02d}/'\n",
    "    response = requests.get(url)\n",
    "    if not response.ok:\n",
    "        return []\n",
    "    tree = BeautifulSoup(response.content, 'html.parser')\n",
    "# кодировка подсмотрена в чатике в TG\n",
    "    a = tree.select_one(\"script:-soup-contains('window.materials')\").string\n",
    "    s = a.strip()[len('window.materials = JSON.parse('):-1].encode('utf-8').decode('unicode-escape')\n",
    "    info = json.loads(s.strip(')').strip(\"'\"))\n",
    "    ls = []\n",
    "    for i in range(len(info['data'])):\n",
    "        full_url = url + info['data'][i]['url'].split('/')[-1]\n",
    "        ls.append(full_url)\n",
    "    \n",
    "    return ls\n",
    "\n",
    "\n",
    "def parse_artilce(full_url):\n",
    "    article_dict = {}\n",
    "    soup = BeautifulSoup(requests.get(full_url).content, 'html.parser')\n",
    "    article = ''\n",
    "        \n",
    "    for sub_article in soup.findAll('div', {'class': 'n1_material text-18'})[:-1]:\n",
    "        article += sub_article.text.replace(u'\\xa0', u' ').strip('')\n",
    "        article = re.sub(r'\\n+', r'\\n', article) + '\\n'\n",
    "    try:\n",
    "        time = soup.findAll('span', {'class': 'group-hover:text-main transition-colors duration-75'})[0].text\n",
    "        date = soup.findAll('span', {'class': 'group-hover:text-main transition-colors duration-75'})[1].text\n",
    "        difficulty = soup.findAll('span', {'class': 'group-hover:text-main transition-colors duration-75'})[2].text\n",
    "        topic = soup.findAll('span', {'class': 'group-hover:text-main transition-colors duration-75'})[3].text\n",
    "    except IndexError:\n",
    "        time, date, difficulty, topic = '', '', '', ''\n",
    "            \n",
    "    article_dict['url'] = full_url\n",
    "    article_dict['title'] = soup.html.head.title.text.replace(u'\\xa0', u' ')\n",
    "    \n",
    "    try:\n",
    "        article_dict['author'] = soup.find('a', {'class': 'underline'}).text\n",
    "    except AttributeError:\n",
    "        article_dict['author'] = ''\n",
    "            \n",
    "    article_dict['time'] = pd.to_datetime(str(time) + ' ' + str(date), dayfirst=True, errors='coerce')\n",
    "    article_dict['article'] = article.strip()\n",
    "    article_dict['symbols'] = len(article)\n",
    "    article_dict['words'] = len(article.split())\n",
    "    article_dict['paragraphs'] = article.count('\\n')\n",
    "    article_dict['difficulty'] = difficulty\n",
    "    article_dict['topic'] = topic\n",
    "    \n",
    "    return article_dict\n",
    "    "
   ]
  },
  {
   "cell_type": "code",
   "execution_count": 45,
   "metadata": {
    "scrolled": false
   },
   "outputs": [
    {
     "name": "stderr",
     "output_type": "stream",
     "text": [
      "/var/folders/z9/mv9ft52d0xjdby04_kkqsbfm0000gn/T/ipykernel_13661/2928084720.py:9: DeprecationWarning: invalid escape sequence '\\/'\n",
      "  s = a.strip()[len('window.materials = JSON.parse('):-1].encode('utf-8').decode('unicode-escape')\n"
     ]
    },
    {
     "name": "stdout",
     "output_type": "stream",
     "text": [
      "Cтатей обработано = 1 \n",
      "\n",
      "В умирающем человеческом мозге зафиксировали всплески гамма-волн \n",
      "\n",
      "https://nplus1.ru/news/2023/05/01/gamma-oscillations-in-the-dying-human-brain\n",
      "2023-05-01 22:00:00\n",
      "Тема Медицина\n",
      "Сложность 4.7\n",
      "Автор Слава Гоменюк\n",
      "Символов 3577\n",
      "Слов 470\n",
      "Параграфов 9 \n",
      "\n",
      "У двух из четырех умирающих пациентов в коме после прекращения искусственной вентиляции легких (ИВЛ) электроэнцефалография (ЭЭГ) показала заметное увеличение гамма-активности мозга в зоне коры, которая ответственна за сознательное зрительное восприятие. Кроме того, наблюдалось увеличение активности междолевых связей в гамма-диапазоне. Исследование опубликовано в Proceedings of the National Academy of Sciences. \n",
      "Околосмертные переживания во время клинической смерти часто одинаково описываются выжившими из самых разных культур: они описывают это как внетелесные переживания с эйфорией или потерю ощущения пространства и времени. Ранее сообщалось о регистрации на ЭЭГ у таких людей высокочастотных колебаний, которые некоторые ученые рассматривают как маркер сознания. У животных, в частности, находили увеличение гамма-активности на ЭЭГ после остановки сердца. Считается, что гамма-ритм отражает сознательное восприятие зрительной информации и повышенную концентрацию внимания. \n",
      "Известно, что сознательное восприятие визуальных стимулов ассоциировано с двумя путями: один проходит через затылочно-височную извилину, а другой через затылочно-теменное соединение. Эти височно-теменно-затылочные связи (включающие как серое, так и белое вещество), опосредующие обработку зрительной информации, помимо прочего считают зоной нейронных коррелятов сознания. \n",
      "Ученые во главе с Джимо Борджигин (Jimo Borjigin) из Мичиганского университета ретроспективно исследовали ЭЭГ четырех умирающих людей в коме, находившихся на ИВЛ. Трое из них умерли из-за гипоксического повреждения мозга после остановки сердца, а один — из-за обширного кровоизлияния в мозг. В течение последних 24 часов у двух пациентов врачи отметили судорожную активность на ЭЭГ. \n",
      "У первого пациента в левой переднесрединной части височной доли (T3) на ЭЭГ врачи обнаружили вспышки гамма-ритма (частота от 30 до 120 герц, амплитуда 2-10 микровольт) перед смертью, чья амплитуда увеличивалась в течение нескольких секунд после прекращения ИВЛ уже во всем мозге, а особенно в лобных и центральных областях: такое же наблюдали еще у одного пациента. \n",
      "На поздних стадиях умирания в правой и левой височных долях гамма-ритм продолжал появляться в виде вспышек. Также активны в гамма-ритме были соматосенсорная кора (C3 и C4), дорсолатеральная префронтальная кора справа (F4) и вентролатеральная префронтальная кора с двух сторон (F7, F8). В целом по всему мозгу врачи короткое время наблюдали все мозговые ритмы, однако чаще и с большей амплитудой регистрировались гамма-ритмы. \n",
      "Амплитуда гамма-ритмов в правой переднесрединной части височной доли (T4) была значимо связана с фазой более низких частотных диапазонов, и сила этой связи динамически изменялась на разных стадиях умирания: например, незадолго до отключения аппарата ИВЛ ее не было, однако затем эта связь особенно заметно увеличивалась в соматосенсорной и дорсолатеральной префронтальной коре. Кроме того, ЭЭГ зафиксировала распространение гамма-ритмов между правой теменной долей и правой задней височной долей, которое затем переходило в затылочную долю. \n",
      "Таким образом, ученые зафиксировали гамма-ритмы в участках мозга, которые отвечают за восприятие зрительной информации, у двух умирающих пациентов, которым отключили аппарат ИВЛ. Как считают ученые, активацию гамма-ритмов можно считать компенсаторной реакцией при острой гипоксии головного мозга. \n",
      "О том, что люди, которые выбрали работу с умершими в качестве профессии, думают о смерти, можно прочитать в книге «О дивный тленный мир. Когда смерть — дело жизни» (издательство «Манн, Иванов и Фербер»). \n",
      "\n",
      "\n",
      "Cтатей обработано = 51 \n",
      "\n",
      "Сатурн вновь стал лидером Солнечной системы по числу спутников. Теперь их больше ста \n",
      "\n",
      "https://nplus1.ru/news/2023/05/10/more-more-moooree-satellites-saturn\n",
      "2023-05-10 14:50:00\n",
      "Тема Астрономия\n",
      "Сложность 2.4\n",
      "Автор Александр Войтюк\n",
      "Символов 2701\n",
      "Слов 409\n",
      "Параграфов 7 \n",
      "\n",
      "Центр малых планет Международного астрономического союза опубликовал официальные сообщения об открытии 28 новых спутников Сатурна. Это увеличивает число спутников у планеты-гиганта до 118 штук, что делает его абсолютным рекордсменом в Солнечной системе.\n",
      "Долгое время Юпитер оставался рекордсменом по количеству известных спутников в Солнечной системе, на втором месте был Сатурн, а далее шли Уран и Нептун. Однако продолжающиеся поиски новых спутников планет-гигантов привели к тому, что в 2019 году Сатурн обошел Юпитер по числу спутников, однако в начале 2023 года число известных спутников Юпитера выросло до 92 и самая крупная планета в Солнечной системе вновь заняла первое место, удержав его даже после недавнего открытия у Сатурна еще семи спутников.\n",
      "Однако, начиная с 4 мая 2023 года Центр малых планет Международного астрономического союза вновь начал активно публиковать новые подтверждения открытий спутников Сатурна. Новые спутники получили обозначения S/2019 S 13, S/2020 S 6, S/2019 S 12, S/2006 S 14, S/2019 S 11, S/2004 S 47, S/2019 S 10, S/2004 S 46, S/2019 S 9, S/2019 S 8, S/2019 S 7, S/2006 S 13, S/2019 S 6, S/2006 S 12, S/2006 S 11, S/2004 S 45, S/2004 S 44, S/2004 S 43, S/2019 S 5, S/2006 S 10, S/2004 S 42, S/2007 S 6, S/2020 S 5, S/2020 S 4, S/2004 S 41, S/2019 S 4, S/2020 S 3, S/2007 S 5. Таким образом, Сатурн вновь стал рекордсменом, теперь планета обладает 118 известными спутниками.\n",
      "Такое обилие открытий связано с результатами поисковой программы Эдварда Эштона (Edward Ashton) и его коллег из Университета Британской Колумбии при помощи наземного телескопа CFHT в 2019–2021 годах. Исследователи вначале предсказали существование крупной популяции нерегулярных спутников Сатурна, а затем обнаружили несколько десятков кандидатов в окрестностях планеты. Орбиты нерегулярных спутников более эллиптичны и более наклонены по отношению к Сатурну, чем орбиты обычных спутников. \n",
      "Все найденные спутники обладают диаметром 2–5 километров, некоторые из них относятся к инуитской, а другие — к скандинавской группе, исходя из параметров орбит.\n",
      "В беседе с N + 1 Эштон отметил, что в ближайшие дни будет объявлено еще более 20 новых спутников Сатурна. Он рассказал, что исследователи искали тела размером до 2,5 километров, спутников Сатурна, диаметром до 1 километра, могут быть тысячи, однако их гораздо труднее обнаружить. По словам Эштона, в ходе поисков ученые использовали метод «сдвинуть и наложить» (shift and stack), который заключается в сложении ряда снимков с короткой экспозицией и их сдвиге относительно друг друга для компенсации движения объекта по небу. \n",
      "Ранее мы рассказывали о том, как астрономы объяснили, почему некоторые спутники Сатурна похожи на пельмени. \n",
      "\n",
      "\n",
      "Cтатей обработано = 101 \n",
      "\n",
      "Экспериментальный препарат защитил мозг мышей от ВИЧ-инфекции \n",
      "\n",
      "https://nplus1.ru/news/2023/05/17/one-more-step-against-hiv\n",
      "2023-05-17 15:35:00\n",
      "Тема Медицина\n",
      "Сложность 4.6\n",
      "Автор Слава Гоменюк\n",
      "Символов 4392\n",
      "Слов 555\n",
      "Параграфов 9 \n",
      "\n",
      "Американские и российские ученые синтезировали молекулу, которая может стать первым препаратом в новом поколении ненуклеозидных ингибиторов обратной транскриптазы — лекарств против ВИЧ. N‑фенил-1-(фенилсульфонил)‑1Н‑1,2,4-триазол-3-амин показал значимую противовирусную активность и защитил нейроны от поражения вирусом в клеточных моделях. В животных моделях молекула не вызвала серьезных токсических эффектов и смогла преодолеть гематоэнцефалический барьер. Исследование опубликовано в Journal of Medicinal Chemistry.\n",
      "Часто у людей с ВИЧ-инфекцией развиваются нейрокогнитивные нарушения — от незначительных проблем с памятью до тяжелых симптомов деменции. При вскрытии у таких людей находят изменения белого вещества головного мозга и признаки потери миелина. Хотя высокоактивная антиретровирусная терапия позволяет миллионам людей с ВИЧ восстанавливать функции иммунной системы и контролировать вирусную нагрузку, часто она эффективна только на периферии, и вирус может оставаться и размножаться в центральной нервной системе (ЦНС), что и приводит к неврологическим расстройствам. Часто это связано с тем, что препараты от ВИЧ не могут преодолевать гематоэнцефалический барьер (ГЭБ), или с высоким числом мутаций вируса. \n",
      "Хотя нуклеозидные ингибиторы обратной транскриптазы, в особенности эфавиренз, проявляют достаточный эффект в ЦНС, они бессильны перед эрадикацией вируса из его резервуара в ЦНС — макрофагах. Шон Экинс (Sean Ekins) из компании Collaborations Pharmaceuticals и Вадим Макаров (Vadim Makarov) из Федерального исследовательского центра «Фундаментальные основы биотехнологии» РАН искали молекулы, которые, во-первых, были бы эффективны против мутантных штаммов вируса, а во-вторых, могли бы проникать в ЦНС и защищать нервную ткань от разрушения. \n",
      "Ученые исследовали более ста потенциальных молекул и остановили внимание на N‑фенил-1-(фенилсульфонил)‑1Н‑1,2,4-триазол-3-амине из-за показателей зависимости структура-активность и его активного взаимодействия in vitro с вирусными частицами в клетках — как мутантом дикого типа, так и мутантом A17 (K103N/Y181C). По наблюдениям ученых за активность молекулы отвечают нафталиновая и фенильная группа. В клеточных моделях ВИЧ-инфекции молекула не показывала значимой токсичности, при этом она значимо снижала внутриклеточное размножение ВИЧ по механизму, схожему с механизмом ненуклеотидных ингибиторов обратной транскриптазы. \n",
      "Кроме того, ученые отдельно исследовали эффект потенциального лекарства в нейронах мыши. Выяснилось, что отслеживаемое по активности MAP2-киназы повреждение нейронов от действия ВИЧ снижалось при обработке клеток синтезированной молекулой. Кроме того, ученые не зафиксировали накопления в нейронах кальция, чья высокая концентрация повреждает клетки и нарушает мембранный потенциал, — такое часто случается при поражении нейронов ВИЧ.\n",
      "Исследование однократного внутрижелудочного введения субстанции мышам в дозе 250 миллиграмм на килограмм массы тела показало, что период полувыведения составил 7,7 ± 1,57 часа, а максимальная концентрация достигала 81,4 ± 26,16 нанограмма на миллилитр. В головном мозге максимальная концентрация достигала ≈ 40,3 ± 9,43 нанограмма на 100 миллиграмм вещества и аналогичном периоде полувыведения, что говорит о хорошем прохождении молекулы через ГЭБ. \n",
      "Препарат оставался безопасным даже в дозе 2000 миллиграмм на килограмм в течение 14 дней: не наблюдалось никаких отклонений во внешнем виде, состоянии шерсти, характере выделений или поведенческих реакциях подопытных животных. Ученые не нашли у таких мышей изменений внутренних органов или отклонения лабораторных показателей крови. Однако у мышей, которые получали стандартную дозу в течение 30 дней нашли поражения печени, а в крови у них повысился уровень печеночных ферментов. \n",
      "В дальнейшем ученым предстоит проверить эффективность молекулы in vivo, и ее способность воздействовать на вирус в макрофагах ЦНС. Однако нынешние результаты исследования эффективности, полученные в клеточных моделях, и безопасности на животных моделях показывают потенциал нового препарата для лечения ВИЧ-инфекции. Особенно исследователи отмечают защитный эффект для нейронов и способность молекулы проникать через ГЭБ. \n",
      "Пока что вылечить ВИЧ-инфекцию полностью удается только с помощью пересадки стволовых клеток крови, устойчивых к заражению. Недавно так впервые вылечили женщину, перелив ей пуповинную кровь с нужной мутацией. \n",
      "\n",
      "\n"
     ]
    },
    {
     "name": "stdout",
     "output_type": "stream",
     "text": [
      "Cтатей обработано = 151 \n",
      "\n",
      "КТ с подсчетом фотонов нагляднее показала врожденные пороки сердца \n",
      "\n",
      "https://nplus1.ru/news/2023/05/24/photon-counting-ct\n",
      "2023-05-24 11:49:00\n",
      "Тема Медицина\n",
      "Сложность 3.9\n",
      "Автор Слава Гоменюк\n",
      "Символов 4396\n",
      "Слов 571\n",
      "Параграфов 9 \n",
      "\n",
      "Компьютерная томография (КТ) с подсчетом фотонов показала более четкие и контрастные изображения у детей с врожденными пороками сердца, нежели КТ с двумя источниками излучения. Немецкие радиологи в статье для журнала Radiology, отмечают, что оба метода имеют схожую дозу облучения. \n",
      "Примерно у процента новорожденных детей наблюдаются врожденные пороки сердца разной степени тяжести. У четверти таких детей дефект будет критическим и потребует хирургической коррекции в течение первого месяца жизни. Хотя порок развития можно обнаружить с помощью ультразвукового исследования на скринингах во время беременности, порой этого метода бывает недостаточно для полноценной диагностики врожденного дефекта сердца. \n",
      "Для подробного изучения сложных пороков используют магнитно-резонансную томографию и компьютерную томографию. Хотя МРТ обладает явным преимуществом по сравнению с КТ — оно не связано с ионизирующим излучением — метод требует полного обездвиживания пациента, что у новорожденного и грудного ребенка можно достичь лишь с помощью наркоза, а это создает дополнительные риски. Из-за этого врачи стараются разработать методы визуализации сердца у детей раннего возраста, которые бы требовали меньше наркоза или с невысокой дозой облучения.\n",
      "Ученые рассматривают КТ с подсчетом фотонов как метод, который может выполнить оба условия. Аппарат помимо послойного рентгенологического исследования подсчитывает энергию каждого фотона, а поскольку нет непрямого преобразования рентгеновского излучения в свет, такой вид КТ избегает потери сигнала на детекторе. Это уменьшает электронный шум и, следовательно, увеличивает соотношение сигнал/шум и контраст/шум, то есть обеспечивает более качественное изображение при стандартной дозе облучения. \n",
      "Тимм Диррихс (Timm Dirrichs) из Рейнско-Вестфальского технического университета Ахена сравнил качество изображений, которые получаются при КТ с подсчетом фотонов и КТ с двумя источниками излучения. За показатель качества лаборатория под его руководством принимали соотношения сигнал/шум и контраст/шум. В качестве «источников» изображения выступали дети с врожденными пороками сердца. У каждого ребенка показания к проведению компьютерной томографии устанавливались на еженедельных совещаниях педиатров, детских кардиохирургов, детских кардиологов и кардиорадиолога. Когда это было возможно, детей старались кормить и пеленать, чтобы избежать медикаментозной седации. В случае сильного беспокойства детям внутривенно вводили пропофол.\n",
      "В общей сложности 113 детей (55 девочек и 58 мальчиков), чей средний возраст составлял 66 дней (возрастной диапазон — 1-1148 дней) разделили на две группы: 30 детей в группе КТ с подсчетом фотонов, а 84 в группе КТ с думя источниками (один ребенок прошел обе процедуры). Средний возраст детей в первой группе был ниже, чем у детей из второй группы (48 против 77 дней).\n",
      "Качество КТ-изображений достигло диагностического минимума у 97 процентов томограмм при КТ с подсчетом электронов и у 77 процентов при КТ с двумя источниками. По сравнению с КТ с двумя источниками у КТ с подсчетом фотонов соотношения сигнал/шум и контраст/шум были достоверно выше. Общее качество изображения оценивалось как «отличное» у 40 процентов изображений КТ с подсчетом фотонов против четырех процентов изображений КТ с двумя источниками. При оценке резкости изображения, общей контрастности, очертаний сосудистых структур, качества 3D-реконструкции, артефактов движения выяснилось, что КТ с подсчетом фотонов показывал куда лучшие результаты, чем классический метод (р < 0,001 для всех подкатегорий).\n",
      "При этом радиологи не отметили значимой разницы в поглощенных дозах ионизирующего излучения. Следовательно КТ с подсчетом фотонов можно считать более эффективной альтернативой КТ с двумя источниками: при схожей дозе облучения метод обеспечивает лучшую визуализацию. В дальнейшем ученым предстоит дополнительно усовершенствовать методологию проведения исследования, чтобы еще больше повысить качество изображения и снизить вероятность артефактов. \n",
      "Хотя в современных рентгеновских аппаратах (в том числе и томографах) доза облучения значительно снизилась, она продолжает оставаться значимым фактором, который может ограничивать применение рентгенологических методов исследования. Например, у детей значительно повышается риск развития опухолей центральной нервной системы, лейкозов и лимфомы Ходжкина после четырех обследований с помощью КТ. \n",
      "\n",
      "\n",
      "Cтатей обработано = 201 \n",
      "\n",
      "Синхротронное излучение позволило охарактеризовать единичный атом \n",
      "\n",
      "https://nplus1.ru/news/2023/05/31/single-atom-x-ray\n",
      "2023-05-31 18:38:00\n",
      "Тема Химия\n",
      "Сложность 6.7\n",
      "Автор Михаил Бойм\n",
      "Символов 3056\n",
      "Слов 389\n",
      "Параграфов 9 \n",
      "\n",
      "Химики из США, Китая и Франции использовали синхротронное излучение для характеризации отдельных ионов железа и тербия в составе комплексных соединений, нанесенных на поверхность золота. Ученые смогли детектировать электронные переходы этих атомов только тогда, когда тонкий металлический детектор располагался точно над атомами металлов. Исследование опубликовано в журнале Nature.\n",
      "Синхротронное излучение позволяет проводить рентгеноструктурные исследования на очень небольших образцах вещества, содержащих около 104 атомов. Но если для регистрации фотоэлектронов использовать очень тонкий металлический детектор, разрешение можно повысить еще сильнее — до всего нескольких десятков атомов в образце. Тем не менее детектировать сигналы от одиночных атомов ученые не умели до сих пор.\n",
      "Но недавно физики и химики под руководством Фолькера Розе (Volker Rose) использовали синхротрон APS в Аргоннской национальной лаборатории для проведения рентгеновского анализа отдельных атомов. \n",
      "Для этого ученые приготовили комплексы железа и тербия с замещенными пиридиновыми лигандами на поверхности золота. Первый эксперимент с синхротронным излучением ученые провели на поверхности с комплексами железа. Они разместили детектор на большом расстоянии (пять нанометров) от образца, при котором невозможно туннелирование фотоэлектронов между поверхностью и детектором. В полученной зависимости энергии фотоэлектронов от тока в детекторе химики наблюдали сигналы от электронных переходов всех ионов железа, расположенных вблизи детектора.\n",
      "В следующем эксперименте физики расположили детектор намного ближе к образцу — так, чтобы фотоэлектроны могли туннелировать. Во время эксперимента ученые обнаружили, что при движении детектора сигналы переходов меняются. Причем сигналы, соответствующие электронным переходам иона железа, появлялись только тогда, когда детектор располагался точно над ионом железа.\n",
      "Тот же самый эксперимент удалось провести и с комплексом тербия. И, как и в случае комплексов железа, сигналы от электронных переходов тербия возникали только при точном расположении детектора над его катионами.\n",
      "Далее ученые решили применить синхротронное излучение для анализа электронной структуры комплексов. Для этого они использовали спектроскопию рентгеновского поглощения в ближней к краю области и проанализировали тонкую структуру полученных сигналов. В результате оказалось, что железо в комплексе имело степень окисления +2, а тербий — +3. Кроме того, удалось выяснить, что 3d-орбитали иона железа взаимодействуют с лигандами, а 4f-орбитали тербия — нет.\n",
      "Так ученые показали, что синхротронное излучение и правильно спроектированный детектор позволяют проводить рентгеноструктурные исследования на отдельных атомах. При этом можно узнать не только то, где они расположены, но и выяснить детали их электронной структуры.\n",
      "Недавно мы рассказывали о том, как сибирские ученые создали клистрон для Сибирского кольцевого источника фотонов (СКИФ). А прочитать подробнее про историю рентгеноструктурного анализа можно в нашем материале «Деплатформинг структур». \n",
      "\n",
      "\n",
      "Cтатей обработано = 251 \n",
      "\n",
      "Вакиты пока не вымерли \n",
      "\n",
      "https://nplus1.ru/news/2023/06/08/vaquita-new-hope\n",
      "2023-06-08 17:15:00\n",
      "Тема Зоология\n",
      "Сложность 1.7\n",
      "Автор Сергей Коленов\n",
      "Символов 3939\n",
      "Слов 543\n",
      "Параграфов 7 \n",
      "\n",
      "Зоологи обнаружили, что вакиты, которые считаются самыми редкими китообразными в мире, все еще существуют. Во время экспедиции в Калифорнийский залив в мае этого года исследователи насчитали 10-13 особей этого вида, включая одного-двух детенышей. Как отмечает The New York Times, это соответствует оценкам осени 2021 года. Таким образом, резкое падение численности вакит, связанное с гибелью в рыбацких сетях, по крайней мере замедлилось. Полный отчет об экспедиции можно увидеть по ссылке.\n",
      "Калифорнийские морские свиньи (Phocoena sinus), более известные как вакиты, балансируют на грани полного вымирания. Когда-то на севере Калифорнийского залива обитала популяция из нескольких тысяч этих мелких китообразных. Однако в последние десятилетия здесь сильно активизировался рыболовный промысел. Сами морские свиньи местных рыбаков не интересуют — однако эти млекопитающие часто запутываются и гибнут в жаберных сетях, с помощью которых браконьеры ловят редких рыб тотоаб (Totoaba macdonaldi), чей плавательный пузырь высоко ценится в китайской медицине. Опасны для вакит и снасти для ловли других рыб и креветок. В результате к 2014 году численность вакит упала ниже ста особей, а к 2019 году — ниже двадцати.\n",
      "Попытки защитить вакит от неминуемого вымирания до сих пор не имели значительного успеха. В 2020 году мексиканские власти объявили участок Калифорнийского залива площадью 12 на 24 километра в окрестностях города Сан-Фелипе, где эти китообразные проводят больше всего времени, охраняемой зоной. Ловить рыбу и креветок здесь нельзя — однако рыбаки регулярно нарушают этот запрет. А проект по разведению вакит в неволе был свернут после того, как одна из отловленных для этого особей погибла.\n",
      "Зоологи не сомневаются, что без серьезных природоохранных мер вакиты вымрут в ближайшие годы (а некоторые специалисты полагали, что вид уже исчез). Тем не менее пока этим млекопитающим удается выживать. Научная экспедиция, которая отправилась на север Калифорнийского залива в мае этого года, подтвердила, что вакиты до сих пор существуют. В общей сложности за 17 дней исследователи с помощью визуальных наблюдений, съемок с дронов и акустического мониторинга насчитали 10-13 особей этого вида, включая одного-двух детенышей. Такой же численность вакит была осенью 2021 года. Сотрудники природоохранной организации Sea Shepherd отмечают, что экспедиция охватила лишь небольшую часть исторического ареала калифорнийских морских свиней, а значит, в действительности их может быть даже больше. Все особи, которых встретили ученые, выглядели здоровыми.\n",
      "Осенью 2021 года в зоне Калифорнийского залива, выделенной для охраны вакит, рыбачили десятки судов. Однако с тех пор, благодаря совместным патрулям Sea Sheperd и военно-морского флота Мексики, ситуация значительно улучшилась. В ходе новой экспедиции выяснилось, что использование сетей в данном районе сократилось на 90 процентов. Возможно, определенную роль в этом сыграл прошлогодний проект, в ходе которого мексиканские моряки сбросили в море почти двести металлических крюков — они должны были утянуть на дно незаконно установленные сети.\n",
      "Результаты экспедиции указывают, что падение численности вакит по крайней мере замедлилось благодаря природоохранным мерам. Однако для спасения этого вида нужно сделать еще очень много. В частности, исследователи рекомендуют расширить зону, в которой сети топят с помощью крюков. Кроме того, необходимо перестроить экономику местных рыбацких деревень, которые сейчас зависят от опасного для вакит промысла. \n",
      "Может показаться, что вакиты уже обречены на вымирание из-за близкородственного скрещивания, поскольку их популяция слишком мала. Однако несколько лет назад ученые выяснили, что эти китообразные были немногочисленными на протяжении последних трехсот тысяч лет. Это позволило им очистить геном от вредных мутаций и стать менее уязвимыми к инбридингу. Таким образом, если люди не погубят последних вакит, те смогут восстановить численность. \n",
      "\n",
      "\n"
     ]
    },
    {
     "name": "stdout",
     "output_type": "stream",
     "text": [
      "Cтатей обработано = 301 \n",
      "\n",
      "Драка с роботом превратила самцов мух в умелых любовников \n",
      "\n",
      "https://nplus1.ru/news/2023/06/19/fly-vs-robot\n",
      "2023-06-19 21:37:00\n",
      "Тема Зоология\n",
      "Сложность 2.1\n",
      "Автор Сергей Коленов\n",
      "Символов 5404\n",
      "Слов 713\n",
      "Параграфов 12 \n",
      "\n",
      "Итальянские энтомологи придумали, как сделать выращенных в неволе самцов средиземноморских плодовых мух более успешными любовниками. Эксперименты показали, что если дать мужским особям этих насекомых подраться с роботизированной моделью сородича, то впоследствии они будут больше времени тратить на ухаживания за самками и спаривание с ними. Кроме того, у них вырастет процент успешных попыток спаривания. Как отмечается в статье для журнала Biological Cybernetics, результаты исследования повысят эффективность программ по сокращению численности насекомых, в ходе которых в дикую природу массово выпускают стерилизованных самцов.\n",
      "Среди насекомых много вредителей сельского хозяйства, переносчиков инфекций и инвазивных видов, угрожающих целым экосистемам. Один из наиболее эффективных и безопасных для окружающей среды методов борьбы с ними заключается в том, чтобы в большом количестве выращивать в неволе стерильных самцов определенных видов и выпускать их в природу. После того, как такие особи спарятся с дикими самками, те не дадут потомства. В результате местная популяция вида сократится или вовсе исчезнет.\n",
      "Несмотря на все достоинства этого подхода, у него есть и недостатки. Одна из проблем заключается в том, что выращенные в неволе и стерилизованные самцы приспособлены к жизни в природе хуже своих диких сородичей. Например, они зачастую плохо справляются с поиском и оплодотворением самок. \n",
      "Команда энтомологов под руководством Донато Романо (Donato Romano) из Школы передовых исследований имени Святой Анны в Пизе решила сделать выращенных в неволе самцов насекомых более успешными любовниками. Ученые сосредоточили внимание на средиземноморских плодовых мухах (Ceratitis capitata) — широко распространенных вредителях, личинки которых питаются плодами более 200 видов растений. С этими насекомыми часто борются, выпуская в природу стерилизованных самцов.\n",
      "Романо и его соавторы обратили внимание, что самцы средиземноморских плодовых мух агрессивно ведут себя по отношению друг к другу. Мужские особи этих насекомых занимают на листьях или плодах растений участки, где устраивают брачные демонстрации для привлечения самок. Хозяин участка ревностно защищает его от конкурентов, вступая с ними в ритуализированные поединки, включающие взмахи и удары крыльями, а также покачивания и толчки головой. Авторы предположили, что сражения с соперниками запускают в организме мух-самцов изменения, которые впоследствии позволяют им эффективнее привлекать и оплодотворять самок.\n",
      "Чтобы проверить данную идею, исследователи провели серию экспериментов с выращенными в неволе самцами плодовых мух. Они сажали по одной мужской особи за раз в прозрачный контейнер, на дне которого по окружности лежали пять дисков, вырезанных из листьев цитрусовых деревьев. После этого подопытных мух на двадцать минут оставляли в одиночестве, чтобы они заняли один из дисков в качестве демонстрационной площадки. \n",
      "Затем авторы помещали в центр окружности между дисками роботизированную модель самца, управляемую с помощью магнита, Ее направляли к диску, выбранному настоящим самцом, чтобы сымитировать вторжение соперника. Робомуха находилась у границ занятого участка тридцать секунд, после чего возвращалась в центр окружности на шестьдесят секунд. Данная последовательность действий повторялась в течение пятнадцати минут. Подопытные самцы видели в роботах соперников и демонстрировали агрессивное поведение, защищая от них свои участки. \n",
      "На следующем этапе к самцам плодовых мух, которые сразились с роботом, на час подсаживали половозрелых самок. Исследователи фиксировали, сколько времени у мужских особей займет вибрациями крыльями (это часть брачной демонстрации), как быстро они перейдут к совокуплению и как долго оно продлится. Кроме того, они оценивали, закончится ли попытка спариться успешно или самка отвергнет ухаживания. В качестве контрольной группы выступали самцы, которые не сталкивались ни с живыми, ни с роботизированными соперниками. В обеих группах было по 120 особей.\n",
      "Как и ожидали авторы, встреча с роботом-конкурентом помогла самцам плодовых мух эффективнее привлекать самок. По сравнению с сородичами из контрольной группы они дольше вибрировали крыльями, позже переходили к совокуплению и дольше оплодотворяли самок. В целом такие самцы тратили больше времени на ухаживания и спаривание. А их попытки совокупиться с самками чаще заканчивались успешно. \n",
      "Романо и его коллеги предполагают, что во время драки с соперником (настоящим или роботизированным) в гемолимфу мух-самцов выбрасывается большое количество октопамина — аналога норадреналина у беспозвоночных. Это соединение активирует октопаминергические нейроны и тем самым стимулирует агрессивное и брачное поведение. \n",
      "Авторы надеются, что результаты их исследования сделают проекты по контролю численности вредных насекомых более эффективными. Однако для этого нужно придумать, как тренировать стерилизованных самцов в промышленных масштабах. \n",
      "Ранее мы рассказывали о том, как нидерландские инженеры создали легкого летающего робота, который позволяет изучать механизмы, лежащие в основе полета насекомых. Несмотря на отсутствие хвоста он может управлять движением вокруг вертикальной оси с помощью движений крыльев, создающих крутящие моменты по остальным осям. Эксперименты с роботом позволили подтвердить гипотезу, согласно которой дрозофилы и некоторые другие насекомые используют аналогичный механизм во время резких поворотов. \n",
      "\n",
      "\n",
      "Cтатей обработано = 351 \n",
      "\n",
      "Миру пообещали 1,3 миллиарда диабетиков к середине века \n",
      "\n",
      "https://nplus1.ru/news/2023/06/26/burden-of-diabetes\n",
      "2023-06-26 12:05:00\n",
      "Тема Медицина\n",
      "Сложность 2.1\n",
      "Автор Слава Гоменюк\n",
      "Символов 1028\n",
      "Слов 143\n",
      "Параграфов 2 \n",
      "\n",
      "В 2021 году во всем мире насчитывалось в среднем 529 миллионов, живущих с диабетом, а глобальная стандартизированная по возрасту общая распространенность диабета составляла 6,1 процента. В России с диабетом проживает почти девять миллионов человек. По расчетам ученых в 2050 году будет насчитываться более 1,3 миллиарда людей с диабетом, а десять процентов населения в 89 из 204 стран, включенных в отчет, к этому времени будут страдать от диабета. Результаты отчета по глобальной заболеваемости диабетом опубликованы в журнале The Lancet. \n",
      "Самая высокая распространенность болезни, стандартизированная по возрасту, наблюдалась в Северной Африке и на Ближнем Востоке (в среднем 9,3 процента), а также в Океании (12,3 процента). Страной с самым высоким показателем распространенности диабета стал Катар — 76,1 процента в возрасте 75-79 лет. Примечательно, что на долю диабета второго типа приходилось до 96 процентов случаев заболевания, на что повлияло значительное увеличение распространенности ожирения и излишней массы тела. \n",
      "\n",
      "\n",
      "Cтатей обработано = 401 \n",
      "\n",
      "Ученые разработали онлайн-калькулятор для расчета риска самоубийства \n",
      "\n",
      "https://nplus1.ru/news/2023/07/01/risk-of-suicide-multivariable-clinical-prediction-rule\n",
      "2023-07-01 14:35:00\n",
      "Тема Медицина\n",
      "Сложность 2.8\n",
      "Автор Слава Гоменюк\n",
      "Символов 4458\n",
      "Слов 600\n",
      "Параграфов 9 \n",
      "\n",
      "Британские ученые совместно со шведскими и американскими коллегами разработали многофакторную модель, с помощью которой можно рассчитать риск суицида в течение 12 месяцев. Она использует данные об 11 факторах риска, в том числе психические заболевания и их лечение, а также историю самоповреждений. Для удобства использования модели ученые разработали онлайн-калькулятор. Как сообщается в BMJ Mental Health, чувствительность модели составила 82 процента, а специфичность — 54 процента.\n",
      "Для системной профилактики самоубийств врачам важно понимать факторы риска самоубийств, чтобы выделять группу высокого риска, которой помощь нужна в первую очередь. Например, к такой группе относятся люди, причиняющие себе вред, у которых риск самоубийства в течение года от случая самоповреждения по меньшей мере в 20 раз превышает таковой среди населения в целом. \n",
      "Ежегодно около 16 миллионов человек причиняют себе вред, поэтому профилактический потенциал среди таких людей огромен. Однако поскольку рекомендуемые в настоящее время методы лечения включают ресурсоемкую специализированную психологическую терапию с обучением и десятком сеансов, большинство систем здравоохранения не могут предложить такие методы лечения и профилактики. Поэтому более точная и детальная оценка риск суицида у таких людей позволит наиболее эффективно распределять ресурсы. \n",
      "Существующие методы статистической оценки риска суицида подвергаются критике за низкую информативность и эффективность. Поэтому Сина Фазель (Seena Fazel) из Оксфордского университета с коллегами из Швеции и США разработали многофакторную модель, которая рассчитывает риск самоубийства на основе 11 факторов. Для этого они провели когортное ретроспективное исследование, направленное на изучение национальных баз данных Швеции для сбора информации о суицидах и самоповреждениях у лиц старше десяти лет. Опираясь на эти данные, ученые изучали, как различные факторы риска влияют на риск суицида. \n",
      "В изучаемую когорту вошло 53172 человека, из которых 37523 были отнесены к выборке для разработки модели, 15649 — для внешней валидации. В группе разработки модели 267 человек (0,7 процента) умерли от самоубийства в течение шести месяцев после оценки с помощью модели, 391 (1 процент) — в течение 12 месяцев, 540 (1,4 процента) — в течение двухлетнего периода наблюдения. В группе валидации через шесть месяцев от своих рук погибло 108 человек (0,7 процента), через 12 — 178 (1,1 процента), и 251 (1,6 процента) в течение двух лет наблюдения. Значимых демографических различий между группами ученые не наблюдали. Среди тех, кто умер в результате самоубийства, медиана продолжительности жизни после оценки с помощью модели составила 11 месяцев. В валидационной выборке медиана выживаемости составила те же 11 месяцев среди тех, кто умер от самоубийства.\n",
      "Ученые выделили 11 факторов риска самоубийства, на которых может основываться их модель. Среди них мужской пол, расстройства, связанные с употреблением наркотиков в настоящее время или в течение всей жизни, недавнее психическое расстройство, недавнее применение психотропных препаратов, случаи членовредительства в течение жизни, госпитализация на ночь для обеспечения безопасности, а также расчетный индекс самоповреждения, который связан с передозировкой психотропных препаратов и аутоасфиксией. Также в модель внесли употребление алкоголя. Связь с возрастом была нелинейной — с низким риском в младшем возрасте, но резким увеличением риска после подросткового возраста. \n",
      "После многочисленных статистических анализов модель показала значимые успехи в расчете риска суицида: например, проверка в когорте разработки модели показала, что у двух случайно выбранных людей в 76 процентов случаев модель оценит более высокий риск для того, кто умрет от самоубийства через 12 месяцев, чем для человека, который этого не сделает. Чувствительность модели для прогнозирования риска суицида через шесть месяцев составила 68 процентов, а специфичность — 71 процент. Для 12-месячного прогноза чувствительность составила 82 процента, а специфичность — 54 процента. Для удобства расчета риска ученые создали онлайн-калькулятор. \n",
      "В будущих исследованиях ученые рассчитывают сравнить их модель с другими, а также проверить ее в полевых условиях. \n",
      "Факторами риска суицида в многочисленных исследованиях были самые разные параметры. Например, недавно мы рассказывали, что трансгендерность повысила риск суицида, а в пандемию ковида увеличилось число суицидальных попыток среди детей. \n",
      "\n",
      "\n"
     ]
    },
    {
     "name": "stdout",
     "output_type": "stream",
     "text": [
      "Cтатей обработано = 451 \n",
      "\n",
      "Пандемия ковида затормозила нервно-психическое развитие японских детей почти на полгода \n",
      "\n",
      "https://nplus1.ru/news/2023/07/10/pandemic-and-early-childhood-development\n",
      "2023-07-10 19:20:00\n",
      "Тема Медицина\n",
      "Сложность 2.3\n",
      "Автор Слава Гоменюк\n",
      "Символов 3947\n",
      "Слов 591\n",
      "Параграфов 9 \n",
      "\n",
      "Японские ученые пронаблюдали за двумя когортами детей из пригорода Токио, у которых период пандемии ковида пришелся на возраст с года до трех лет и с трех до пяти лет, и выяснили, что дети, которые пережили пандемию в возрасте от трех до пяти лет, в среднем отстают в нервно-психическом развитии на 4,39 месяца по сравнению со сверстниками, которые росли в обычное время. Как сообщается в JAMA Pediatrics, на эту задержку могла оказать значимое влияние депрессия у родителей.\n",
      "Пандемия ковида повлияла на самые разные факторы внешней среды, от которых зависит развитие ребенка: от взаимоотношений в семье до культуры общества. Уже известно о том, что пандемия и локдауны повысили риск развития различных заболеваний и состояний у детей: от увеличения веса и времени, проведенного у экрана, до психических болезней. Кроме того, систематические обзоры и метаанализы показали, что пандемия негативно повлияла на успеваемость детей школьного возраста, особенно среди учащихся начальной школы и детей из низших социально-экономических слоев. Однако не конкретных оценок влияния пандемии на развитие детей раннего возраста. \n",
      "В некоторых исследованиях ученые находили признаки нарушения эмоций и трудностей с саморегуляцией в период локдауна у детей в возрасте от двух до пяти лет. Например, японские дошкольники, посетившие концерт в детском саду во время пандемии, продемонстрировали более высокие социально-эмоциональные навыки, чем их сверстники, которые не ходили на концерт. \n",
      "Чтобы внести ясность в этот вопрос, группа ученых под руководством Корю Сато (Koryu Sato) из Киотского университета исследовала развитие детей в возрасте 1, 3 и 5 лет, которые посещали аккредитованные детские сады в муниципалитете, расположенном в пригороде Токио. Развитие ребенка оценивалось с помощью шкалы KIDS, которую для этих целей применяют в Японии: родителей просят ответить на вопросы в анкете о физической активности ребенка, его речи и отношениях с детьми и взрослыми. Анкета содержит 142 пункта для детей младше трех лет и 133 для детей старше трех лет. Ученые исследовали, как пандемия повлияла на развитие детей в зависимости от того, на какой возраст она пришлась: от года до трех лет или от трех до пяти лет. Оценку проводили в три и в пять лет соответственно. \n",
      "Выборка детей, которая подверглась воздействию пандемии, включала 447 детей в возрастной группе от одного года до трех лет (201 девочка и 246 мальчиков) и 440 детей в возрастной группе от трех до пяти лет (200 девочек и 240 мальчиков). После корректировок эти когорты не отличались от групп сравнения — детей того же возраста, которые росли и развивались без воздействия пандемии. Кроме того, ученые рассматривали и другие доступные факторы, которые могли бы повлиять на связь пандемии и развития детей.\n",
      "В возрастной группе от одного до трех лет ученые не нашли отрицательной связи между пандемией и общим развитием. Наоборот, ассоциации оказались положительными для физической моторики, речи и отношений с детьми и взрослыми. Однако в возрастной группе от трех до пяти лет дети в возрасте пяти лет отставали в общем развитии на 4,39 месяца по сравнению с группами сравнения. Это отражалось на всех категориях оценки развития. \n",
      "При этом качество ухода за детьми в детском саду во время пандемии было положительно связано с общим развитием в возрасте трех лет, а депрессия родителей во время пандемии, по-видимому, усиливала негативную связь между пандемией и общим развитием в возрасте пяти лет. В этих ассоциациях не было особой разницы между мальчиками и девочками, за исключением группы от одного до трех лет, где у девочек наблюдалась более сильная положительная связь, чем у мальчиков.\n",
      "Ученые рассчитывают, что подобные исследования удастся провести и в других странах. Так, врачи и ученые смогут выяснить глобальное влияние пандемии ковида на развитие детей по всему миру. \n",
      "Впрочем, у локдауна были и положительные эффекты. Например, во время него снизилось число преждевременных родов. \n",
      "\n",
      "\n",
      "Cтатей обработано = 501 \n",
      "\n",
      "ВМО предупредила об опасных волнах жары на этой неделе \n",
      "\n",
      "https://nplus1.ru/news/2023/07/18/heat-health\n",
      "2023-07-18 17:48:00\n",
      "Тема Экология и климат\n",
      "Сложность 1.5\n",
      "Автор Марина Попова\n",
      "Символов 962\n",
      "Слов 136\n",
      "Параграфов 2 \n",
      "\n",
      "На этой неделе ожидается рекордно жаркая погода в Северной Америке, Азии, на севере Африки и в Средиземноморье: в течение нескольких дней дневные температуры будут превышать 40 градусов Цельсия. Волны жары в этом году обширны и интенсивны, но еще большее беспокойство вызывает то, что с 1980-х они стали происходить в шесть раз чаще. Такую информацию содержит пресс-релиз Всемирной метеорологической организации (ВМО), поступивший в редакцию N + 1.\n",
      "Эксперты ВМО также прокомментировали вышедшее на прошлой неделе исследование про смерть 60 тысяч европейцев из-за волн жары в 2022 году. Они отметили, что эти оценки очень консервативны и актуальны только для Европы, где хорошо развиты общественное здравоохранение и система предупреждения населения о надвигающейся жаре. По оценкам Межправительственной группы экспертов по изменению климата, к 2050 году уже половина населения Европы может столкнуться с высоким или очень высоким риском теплового стресса летом. \n",
      "\n",
      "\n",
      "Cтатей обработано = 551 \n",
      "\n",
      "Манекен заставили потеть во имя науки \n",
      "\n",
      "https://nplus1.ru/news/2023/07/25/sweating-robot\n",
      "2023-07-25 14:17:00\n",
      "Тема Роботы и дроны\n",
      "Сложность 2.3\n",
      "Автор Андрей Фокин\n",
      "Символов 3817\n",
      "Слов 476\n",
      "Параграфов 9 \n",
      "\n",
      "Компания Thermetrics разработала термический манекен ANDI, который предназначен для имитации тепловых свойств тела человека. Манекен может выделять тепло с помощью нагревательных элементов, а также имитировать потоотделение и дыхание. Множество сенсоров, размещенных в 35 зонах по всему корпусу манекена, позволяют контролировать температуру и измерять тепловые потоки в реальном времени. Манекен будет использоваться учеными в исследованиях воздействия теплового стресса и гипертермии на человека, сообщает New Atlas.\n",
      "При поддержке Angie — первого российского веб-сервера\n",
      "При поддержке Angie — первого российского веб-сервера\n",
      "Всемирная метеорологическая организация недавно сообщала, что за последние 40 лет волны жары стали случаться в шесть раз чаще. Можно ожидать, что в будущем во многих регионах планеты люди столкнутся с новой климатической нормой, в которой придется приспосабливаться к жизни в условиях, когда температура воздуха достигает 40 градусов Цельсия и выше на протяжении длительных промежутков времени. Известно, что высокие температуры воздуха могут представлять угрозу для здоровья и жизни человека. Однако точные механизмы и последствия воздействия жары на сегодняшний день изучены недостаточно хорошо. В связи с этим возрастает интерес ученых к изучению последствий воздействия теплового стресса на человеческий организм.\n",
      "В опасных для здоровья человека исследованиях, в которых требуется воспроизведение поведения человеческого тела, вместо людей зачастую используются манекены. К примеру, манекены много лет успешно выполняют роль пассажиров при испытаниях автомобилей. По этой же причине ученые из Университета штата Аризона вместо того, чтобы подвергать риску здоровье людей, в проводимых ими исследованиях воздействия теплового стресса на человеческий организм решили воспользоваться испытательным манекеном. Для этого компания Thermetrics, занимающаяся разработкой тепловых манекенов для тестирования спортивной одежды, создала симулирующий человеческую физиологию роботизированный манекен ANDI.\n",
      "Рост ANDI составляет 178,5 сантиметров, а масса — 35 килограмм. Его тело разделено на 35 независимых термических зон. Они снабжены сенсорами и индивидуальными нагревательными элементами, с помощью которых можно имитировать тепловыделение человеческого тела, контролировать температуру и динамически измерять теплопотери и получаемое тепло в режиме реального времени. По всей поверхности манекена размещено множество выходных отверстий системы искусственного потоотделения. Также в манекен встроена система имитации дыхания, которая позволяет контролировать влажность и температуру входящего и выходящего воздуха. Руки и ноги манекена имеют подвижные соединения, поэтому, используя внешние приводы для актуации, исследователи могут управлять манекеном, имитируя ходьбу или другую физическую активность. Скорость отвода тепла можно регулировать за счет встроенной системы водяного охлаждения. \n",
      "Исследователи могут задавать параметры, моделирующие тепловые особенности характерные для людей разного возраста, физического состояния и здоровья. Например, уровень потоотделения пожилого человека будет ниже, чем у молодого спортсмена.\n",
      "Исследования с ANDI можно проводить не только в тепловой камере, но и в естественных условиях. Ученые надеются, что данные, собранные с помощью теплового манекена, помогут им выработать рекомендации для широкого круга людей, которые снизят риски для здоровья. Кроме этого, результаты исследования помогут в создании одежды или других средств индивидуальной защиты для смягчения влияния жары на здоровье людей в условиях меняющегося климата.\n",
      "Рост окружающей температуры сказывается и на образовательной системе. Ученые выяснили, что повышение среднегодовой температуры воздуха и увеличение количества жарких учебных дней приводят к снижению школьной успеваемости. \n",
      "\n",
      "\n"
     ]
    },
    {
     "name": "stdout",
     "output_type": "stream",
     "text": [
      "Cтатей обработано = 601 \n",
      "\n",
      "NASA выбрало Lockheed Martin для разработки экспериментального космического аппарата с ядерной силовой установкой \n",
      "\n",
      "https://nplus1.ru/news/2023/07/29/lockheed-martin-draco\n",
      "2023-07-29 16:40:00\n",
      "Тема Космонавтика\n",
      "Сложность 4.1\n",
      "Автор Александр Войтюк\n",
      "Символов 1598\n",
      "Слов 211\n",
      "Параграфов 5 \n",
      "\n",
      "NASA и Управление перспективных исследовательских проектов Министерства обороны США (DARPA) выбрали компанию Lockheed Martin для разработки космического экспериментального аппарата с тепловым ядерным ракетным двигателем DRACO. Ожидается, что первый полет аппарата состоится не позднее 2027 года, он будет запущен на околоземную орбиту, сообщается на сайте Spacenews.com.\n",
      "Проект DRACO (Demonstration Rocket for Agile Cislunar Operations), изначально называвшийся ROAR, запустили в 2019 году. Его цель — разработка демонстрационного космического аппарата с ядерным ракетным двигателем. Создание ядерного реактора поручили компании General Atomics, а за право сделать космический аппарат с 2021 года боролись компании Blue Origin и Lockheed Martin.\n",
      "26 июля 2023 года NASA и DARPA заключили соглашение с Lockheed Martin на разработку аппарата, присудив компании награду в 499 миллионов долларов. Ожидается, что готовая ракета будет состоять из бака с жидким водородом, выступающим рабочим телом для двигателя, ядерного реактора, несущих конструкций и сопла. Реактор будет работать на высококонцентрированном низкообогащенном уране, созданием которого займется компания BWX Technologies.\n",
      "Предполагается, что аппарат отправится на околоземную орбиту высотой от семисот до двух тысяч километров не позднее 2027 года при помощи ракеты Falcon 9 или Vulcan. Реактор запустят только после того, как он достигнет орбиты. После того, как проведут все испытания, его остановят, оставив аппарат на безопасной орбите.\n",
      "Прочесть про получение электроэнергии вне Земли можно в нашем материале «Энергетика в космосе». \n",
      "\n",
      "\n",
      "Cтатей обработано = 651 \n",
      "\n",
      "Удаление тимуса у взрослых связали с повышенным риском онкологии и смерти \n",
      "\n",
      "https://nplus1.ru/news/2023/08/04/thymus-removal-in-adults\n",
      "2023-08-04 12:41:00\n",
      "Тема Медицина\n",
      "Сложность 2.9\n",
      "Автор Слава Гоменюк\n",
      "Символов 1129\n",
      "Слов 147\n",
      "Параграфов 2 \n",
      "\n",
      "Исследование гарвардских ученых показало, что удаление тимуса (тимэктомия), ответственного за образование Т-лимфоцитов у детей (после полового созревания тимус замещается жировой тканью, и как считается, практически перестает функционировать), у взрослых пациентов повышает риск неблагоприятных исходов. К такому выводу они пришли, проанализировав заболеваемость у 1146 пациентов без тимуса и 6021 пациента контрольной группы. Через пять лет после операции смертность от всех причин в группе тимэктомии была выше, чем в контрольной группе (8,1 процента против 2,8 процента) как и риск развития рака (7,4 процента против 3,7 процента). Исследование опубликовано в The New England Journal of Medicine.\n",
      "Кроме того, исключив из анализа пациентов с предоперационной инфекцией, онкологическими и аутоиммунными заболеваниями, ученые обнаружили повышенный риск развития аутоиммунных заболеваний у больных без тимуса. Также в подгруппе пациентов, у которых измеряли количество Т-лимфоцитов и уровни цитокинов в плазме крови, у пациентов без тимуса наблюдалась сниженная продукция CD4- и CD8-лимфоцитов по сравнению с контрольной группой. \n",
      "\n",
      "\n",
      "Cтатей обработано = 701 \n",
      "\n",
      "Неправильный размер манжеты тонометра исказил результаты измерения давления \n",
      "\n",
      "https://nplus1.ru/news/2023/08/11/effects-of-cuff-size\n",
      "2023-08-11 19:33:00\n",
      "Тема Медицина\n",
      "Сложность 2.2\n",
      "Автор Слава Гоменюк\n",
      "Символов 1032\n",
      "Слов 136\n",
      "Параграфов 2 \n",
      "\n",
      "Американские ученые обнаружили, что использование стандартной по размеру манжеты тонометра у людей с небольшим обхватом руки приводит к занижению результата измерения в среднем на 3,6 миллиметра ртутного столба. В то же время стандартная манжета у людей с большим или сверхбольшим обхватом руки завышает результаты на 4,8 миллиметра ртутного столба и 19,5 миллиметра ртутного столба соответственно. Исследование опубликовано в JAMA Internal Medicine.\n",
      "Всего в рандомизированном исследовании приняло участие 195 взрослых (половина — гипертоники) широким диапазоном обхвата руки. Артериальное давление измеряли на правой руке между девятью утра и шести часами вечера с помощью автоматического тонометра трижды, после чего следовал пятиминутный перерыв, и измерение повторяли еще три раза (всего 12 измерений). Как показал дополнительный анализ, меньший размер манжеты сильнее искажал результаты, чем больший размер. Ученые призывают врачей внимательнее относится к размеру манжеты, поскольку это может повлиять на постановку диагноза. \n",
      "\n",
      "\n",
      "Cтатей обработано = 751 \n",
      "\n",
      "Индианка заработала сыпь на ноге от электрообогревателя \n",
      "\n",
      "https://nplus1.ru/news/2023/08/17/erythema-ab-igne\n",
      "2023-08-17 18:19:00\n",
      "Тема Медицина\n",
      "Сложность 2.1\n",
      "Автор Слава Гоменюк\n",
      "Символов 990\n",
      "Слов 133\n",
      "Параграфов 2 \n",
      "\n",
      "Молодая индианка обратилась к врачам с жалобами на безболезненную сыпь на голенях, которая беспокоит ее в течение трех месяцев. Сыпь была более обильной и насыщенной на левой ноге. Она рассказала, что впервые заметила ее зимой: тогда она пользовалась электрическим обогревателем, который стоял ближе к левой ноге. При осмотре врачи обнаружили красновато-коричневую сетчатую гиперпигментацию, более выраженную на левой голени. Врачи поставили диагноз тепловой эритемы (Erythema ab igne). Случай описан в BMJ Case Reports.\n",
      "Тепловая эритема возникает из-за длительного воздействия тепла (до 44 градусов Цельсия) или инфракрасного излучения. Часто она возникает у людей, которые сидели вблизи открытого огня или печей, или которые пользуются подогревом сидений в автомобиле, грелками, а также у пользователей ноутбуков, которые держат устройства на бедрах. В данном случае пациентке рекомендовали избегать повторного теплового воздействия, и высыпания исчезли в течение следующих двух месяцев. \n",
      "\n",
      "\n",
      "Cтатей обработано = 801 \n",
      "\n",
      "Скопа уронила рыбу на линию электропередач и оставила без света две тысячи человек \n",
      "\n",
      "https://nplus1.ru/news/2023/08/23/osprey-vs-powerline\n",
      "2023-08-23 09:30:00\n",
      "Тема Зоология\n",
      "Сложность 1.1\n",
      "Автор Сергей Коленов\n",
      "Символов 1029\n",
      "Слов 146\n",
      "Параграфов 2 \n",
      "\n",
      "Скопу (Pandion haliaetus) заподозрили в том, что она оставила без света около двух тысяч жителей американского штата Нью-Джерси. Как сообщает The Guardian, двенадцатого августа в одном из поселений округа Мидлсекс почти на два часа отключился свет. Сотрудники коммунальной компании Jersey Central Power & Light, выехавшие на место происшествия, установили, что его причиной стала рыба, которая с большой высоты упала на трансформатор линии электропередач и сместила катушки внутри него. Судя по следам от когтей на рыбьем теле, она оказалась в столь неожиданном месте по вине скопы. Вероятно, хищница поймала рыбу, а затем случайно уронила ее, когда пролетала над линией электропередач.\n",
      "Скопы — специализированные рыболовы. Эти хищные птицы обитают на всех континентах кроме Антарктиды, а также на многих островах. Хотя в прошлом численность скоп сильно сократилась из-за преследования людьми и использования ДДТ, сегодня их популяции восстанавливаются. Например, в штате Нью-Джерси в прошлом году гнездились 733 пары этих птиц. \n",
      "\n",
      "\n",
      "Cтатей обработано = 851 \n",
      "\n",
      "Жительница римского Юлиополиса обрела лицо \n",
      "\n",
      "https://nplus1.ru/news/2023/08/29/deformed-skull-from-juliopolis\n",
      "2023-08-29 11:43:00\n",
      "Тема Антропология\n",
      "Сложность 1.4\n",
      "Автор Михаил Подрезов\n",
      "Символов 1353\n",
      "Слов 176\n",
      "Параграфов 2 \n",
      "\n",
      "Турецкие ученые по черепу восстановили внешность женщины 25–35 лет, останки которой нашли в погребальной камере, раскопанной в древнем городе Юлиополис. Ее скелет покоился вместе с костями еще шести человек, живших в III веке нашей эры, что археологи выяснили благодаря обнаруженным бронзовым монетам и серьгам. Исследователи обратили на нее внимание, поскольку ее череп был искусственно деформирован с помощью двух тугих повязок. Как сообщается в препринте, выложенном в репозитарии Research Square, это первый достоверно искусственно деформированный череп, когда-либо найденный в римской Малой Азии.\n",
      "Юлиополис представляет собой древний и средневековый город, остатки которого расположены примерно в 122 километрах от Анкары, на границе двух исторических областей: Вифинии и Галатии. Он обладал важным значением не в последнюю очередь благодаря тому, что город стоял на пересечении Шелкового и паломнического путей, последний из которых пролегал между Константинополем и Анкирой (Анкарой). Сегодня значительная часть Юлиополиса лежит под водой из-за строительства Сарыярской плотины. Однако на поверхности, в частности, продолжают находиться остатки оборонительной стены, раннесредневековой византийской церкви, а также некрополь, в котором уже удалось раскопать более 750 погребений, относящихся к эпохе эллинизма, римскому и византийскому периодам. \n",
      "\n",
      "\n"
     ]
    }
   ],
   "source": [
    "data_list = []\n",
    "counter = 0\n",
    "\n",
    "for month in range(5, 9):\n",
    "    for day in range(1, 32):\n",
    "        urls_to_parse = get_daily_links(month, day)\n",
    "        for url in urls_to_parse:\n",
    "            article_dict = parse_artilce(url)\n",
    "            data_list.append(article_dict)\n",
    "#             sleep(3)\n",
    "            counter += 1\n",
    "# для отладки, вывод на печать инфы о каждой первой статье в новых пятидесяти:\n",
    "            if counter % 50 == 1:\n",
    "                print(f'Cтатей обработано = {counter}', '\\n')\n",
    "                print(article_dict['title'], '\\n')\n",
    "                print(article_dict['url'])\n",
    "                print(article_dict['time'])\n",
    "                print('Тема', article_dict['topic'])\n",
    "                print('Сложность', article_dict['difficulty'])\n",
    "                print('Автор', article_dict['author'])\n",
    "                print(\"Символов\", article_dict['symbols'])\n",
    "                print(\"Слов\", article_dict['words'])\n",
    "                print(\"Параграфов\", article_dict['paragraphs'], '\\n')\n",
    "                print(article_dict['article'], '\\n\\n')"
   ]
  },
  {
   "cell_type": "code",
   "execution_count": 46,
   "metadata": {
    "scrolled": false
   },
   "outputs": [
    {
     "data": {
      "text/html": [
       "<div>\n",
       "<style scoped>\n",
       "    .dataframe tbody tr th:only-of-type {\n",
       "        vertical-align: middle;\n",
       "    }\n",
       "\n",
       "    .dataframe tbody tr th {\n",
       "        vertical-align: top;\n",
       "    }\n",
       "\n",
       "    .dataframe thead th {\n",
       "        text-align: right;\n",
       "    }\n",
       "</style>\n",
       "<table border=\"1\" class=\"dataframe\">\n",
       "  <thead>\n",
       "    <tr style=\"text-align: right;\">\n",
       "      <th></th>\n",
       "      <th>url</th>\n",
       "      <th>title</th>\n",
       "      <th>author</th>\n",
       "      <th>time</th>\n",
       "      <th>article</th>\n",
       "      <th>symbols</th>\n",
       "      <th>words</th>\n",
       "      <th>paragraphs</th>\n",
       "      <th>difficulty</th>\n",
       "      <th>topic</th>\n",
       "    </tr>\n",
       "  </thead>\n",
       "  <tbody>\n",
       "    <tr>\n",
       "      <th>0</th>\n",
       "      <td>https://nplus1.ru/news/2023/05/01/gamma-oscill...</td>\n",
       "      <td>В умирающем человеческом мозге зафиксировали в...</td>\n",
       "      <td>Слава Гоменюк</td>\n",
       "      <td>2023-05-01 22:00:00</td>\n",
       "      <td>У двух из четырех умирающих пациентов в коме п...</td>\n",
       "      <td>3577</td>\n",
       "      <td>470</td>\n",
       "      <td>9</td>\n",
       "      <td>4.7</td>\n",
       "      <td>Медицина</td>\n",
       "    </tr>\n",
       "    <tr>\n",
       "      <th>1</th>\n",
       "      <td>https://nplus1.ru/news/2023/05/01/muNe</td>\n",
       "      <td>Квантовую электродинамику проверили в мюонном ...</td>\n",
       "      <td>Марат Хамадеев</td>\n",
       "      <td>2023-05-01 18:30:00</td>\n",
       "      <td>Физики из США, Франции и Японии измерили часто...</td>\n",
       "      <td>4406</td>\n",
       "      <td>577</td>\n",
       "      <td>10</td>\n",
       "      <td>7.1</td>\n",
       "      <td>Физика</td>\n",
       "    </tr>\n",
       "    <tr>\n",
       "      <th>2</th>\n",
       "      <td>https://nplus1.ru/news/2023/05/01/xenohyla-tru...</td>\n",
       "      <td>Лягушек впервые застали за кормлением нектаром...</td>\n",
       "      <td>Сергей Коленов</td>\n",
       "      <td>2023-05-01 15:15:00</td>\n",
       "      <td>Ромбоглазая квакша из лесов Бразилии стала пер...</td>\n",
       "      <td>5624</td>\n",
       "      <td>765</td>\n",
       "      <td>11</td>\n",
       "      <td>1.7</td>\n",
       "      <td>Зоология</td>\n",
       "    </tr>\n",
       "    <tr>\n",
       "      <th>3</th>\n",
       "      <td>https://nplus1.ru/news/2023/05/01/MQXFA08-repair</td>\n",
       "      <td>В Фермилабе починили 4,2-метровый ниобий-оловя...</td>\n",
       "      <td>Марат Хамадеев</td>\n",
       "      <td>2023-05-01 10:22:00</td>\n",
       "      <td>Физики из Проекта модернизации ускорителя США ...</td>\n",
       "      <td>1014</td>\n",
       "      <td>131</td>\n",
       "      <td>2</td>\n",
       "      <td>1.8</td>\n",
       "      <td>Физика</td>\n",
       "    </tr>\n",
       "    <tr>\n",
       "      <th>4</th>\n",
       "      <td>https://nplus1.ru/news/2023/05/02/gj-486-b-jwst</td>\n",
       "      <td>«Джеймс Уэбб» нашел воду в составе системы из ...</td>\n",
       "      <td>Александр Войтюк</td>\n",
       "      <td>2023-05-02 20:36:00</td>\n",
       "      <td>Инфракрасный космический телескоп «Джеймс Уэбб...</td>\n",
       "      <td>2142</td>\n",
       "      <td>285</td>\n",
       "      <td>6</td>\n",
       "      <td>4.1</td>\n",
       "      <td>Астрономия</td>\n",
       "    </tr>\n",
       "  </tbody>\n",
       "</table>\n",
       "</div>"
      ],
      "text/plain": [
       "                                                 url  \\\n",
       "0  https://nplus1.ru/news/2023/05/01/gamma-oscill...   \n",
       "1             https://nplus1.ru/news/2023/05/01/muNe   \n",
       "2  https://nplus1.ru/news/2023/05/01/xenohyla-tru...   \n",
       "3   https://nplus1.ru/news/2023/05/01/MQXFA08-repair   \n",
       "4    https://nplus1.ru/news/2023/05/02/gj-486-b-jwst   \n",
       "\n",
       "                                               title            author  \\\n",
       "0  В умирающем человеческом мозге зафиксировали в...     Слава Гоменюк   \n",
       "1  Квантовую электродинамику проверили в мюонном ...    Марат Хамадеев   \n",
       "2  Лягушек впервые застали за кормлением нектаром...    Сергей Коленов   \n",
       "3  В Фермилабе починили 4,2-метровый ниобий-оловя...    Марат Хамадеев   \n",
       "4  «Джеймс Уэбб» нашел воду в составе системы из ...  Александр Войтюк   \n",
       "\n",
       "                 time                                            article  \\\n",
       "0 2023-05-01 22:00:00  У двух из четырех умирающих пациентов в коме п...   \n",
       "1 2023-05-01 18:30:00  Физики из США, Франции и Японии измерили часто...   \n",
       "2 2023-05-01 15:15:00  Ромбоглазая квакша из лесов Бразилии стала пер...   \n",
       "3 2023-05-01 10:22:00  Физики из Проекта модернизации ускорителя США ...   \n",
       "4 2023-05-02 20:36:00  Инфракрасный космический телескоп «Джеймс Уэбб...   \n",
       "\n",
       "   symbols  words  paragraphs difficulty       topic  \n",
       "0     3577    470           9        4.7    Медицина  \n",
       "1     4406    577          10        7.1      Физика  \n",
       "2     5624    765          11        1.7    Зоология  \n",
       "3     1014    131           2        1.8      Физика  \n",
       "4     2142    285           6        4.1  Астрономия  "
      ]
     },
     "execution_count": 46,
     "metadata": {},
     "output_type": "execute_result"
    }
   ],
   "source": [
    "df = pd.DataFrame(data_list)\n",
    "\n",
    "df.to_csv('nplus_dump_june_august_2023.csv')\n",
    "df.head()"
   ]
  },
  {
   "cell_type": "code",
   "execution_count": 73,
   "metadata": {},
   "outputs": [],
   "source": [
    "df = pd.read_csv('nplus_dump_june_august_2023.csv', index_col=0)"
   ]
  },
  {
   "cell_type": "code",
   "execution_count": 95,
   "metadata": {},
   "outputs": [
    {
     "data": {
      "text/plain": [
       "url           0\n",
       "title         0\n",
       "author        1\n",
       "time          1\n",
       "article       1\n",
       "symbols       0\n",
       "words         0\n",
       "paragraphs    0\n",
       "difficulty    1\n",
       "topic         1\n",
       "dtype: int64"
      ]
     },
     "execution_count": 95,
     "metadata": {},
     "output_type": "execute_result"
    }
   ],
   "source": [
    "df.isna().sum()"
   ]
  },
  {
   "cell_type": "markdown",
   "metadata": {},
   "source": [
    "Не удалось спарсить одну статью"
   ]
  },
  {
   "cell_type": "code",
   "execution_count": 91,
   "metadata": {},
   "outputs": [
    {
     "data": {
      "text/html": [
       "<div>\n",
       "<style scoped>\n",
       "    .dataframe tbody tr th:only-of-type {\n",
       "        vertical-align: middle;\n",
       "    }\n",
       "\n",
       "    .dataframe tbody tr th {\n",
       "        vertical-align: top;\n",
       "    }\n",
       "\n",
       "    .dataframe thead th {\n",
       "        text-align: right;\n",
       "    }\n",
       "</style>\n",
       "<table border=\"1\" class=\"dataframe\">\n",
       "  <thead>\n",
       "    <tr style=\"text-align: right;\">\n",
       "      <th></th>\n",
       "      <th>url</th>\n",
       "      <th>title</th>\n",
       "      <th>author</th>\n",
       "      <th>time</th>\n",
       "      <th>article</th>\n",
       "      <th>symbols</th>\n",
       "      <th>words</th>\n",
       "      <th>paragraphs</th>\n",
       "      <th>difficulty</th>\n",
       "      <th>topic</th>\n",
       "    </tr>\n",
       "  </thead>\n",
       "  <tbody>\n",
       "    <tr>\n",
       "      <th>34</th>\n",
       "      <td>https://nplus1.ru/news/2023/05/06/shadows-tw-hya</td>\n",
       "      <td>NPLUS1</td>\n",
       "      <td>NaN</td>\n",
       "      <td>NaT</td>\n",
       "      <td>NaN</td>\n",
       "      <td>0</td>\n",
       "      <td>0</td>\n",
       "      <td>0</td>\n",
       "      <td>NaN</td>\n",
       "      <td>NaN</td>\n",
       "    </tr>\n",
       "  </tbody>\n",
       "</table>\n",
       "</div>"
      ],
      "text/plain": [
       "                                                 url   title author time  \\\n",
       "34  https://nplus1.ru/news/2023/05/06/shadows-tw-hya  NPLUS1    NaN  NaT   \n",
       "\n",
       "   article  symbols  words  paragraphs  difficulty topic  \n",
       "34     NaN        0      0           0         NaN   NaN  "
      ]
     },
     "execution_count": 91,
     "metadata": {},
     "output_type": "execute_result"
    }
   ],
   "source": [
    "df[df['time'].isna()]"
   ]
  },
  {
   "cell_type": "markdown",
   "metadata": {},
   "source": [
    "[Битая URL](https://nplus1.ru/news/2023/05/06/shadows-tw-hya)"
   ]
  },
  {
   "cell_type": "code",
   "execution_count": 97,
   "metadata": {},
   "outputs": [],
   "source": [
    "df.dropna(inplace=True)"
   ]
  },
  {
   "cell_type": "code",
   "execution_count": 98,
   "metadata": {},
   "outputs": [],
   "source": [
    "df['time'] = pd.to_datetime(df['time'])"
   ]
  },
  {
   "cell_type": "markdown",
   "metadata": {},
   "source": [
    "Для ответа на вопрос сгруппируем таблицу по месяцу:"
   ]
  },
  {
   "cell_type": "code",
   "execution_count": 116,
   "metadata": {
    "scrolled": false
   },
   "outputs": [
    {
     "data": {
      "text/html": [
       "<div>\n",
       "<style scoped>\n",
       "    .dataframe tbody tr th:only-of-type {\n",
       "        vertical-align: middle;\n",
       "    }\n",
       "\n",
       "    .dataframe tbody tr th {\n",
       "        vertical-align: top;\n",
       "    }\n",
       "\n",
       "    .dataframe thead th {\n",
       "        text-align: right;\n",
       "    }\n",
       "</style>\n",
       "<table border=\"1\" class=\"dataframe\">\n",
       "  <thead>\n",
       "    <tr style=\"text-align: right;\">\n",
       "      <th></th>\n",
       "      <th>symbols</th>\n",
       "      <th>words</th>\n",
       "      <th>paragraphs</th>\n",
       "      <th>difficulty_mean</th>\n",
       "    </tr>\n",
       "    <tr>\n",
       "      <th>month</th>\n",
       "      <th></th>\n",
       "      <th></th>\n",
       "      <th></th>\n",
       "      <th></th>\n",
       "    </tr>\n",
       "  </thead>\n",
       "  <tbody>\n",
       "    <tr>\n",
       "      <th>5</th>\n",
       "      <td>719377</td>\n",
       "      <td>96272</td>\n",
       "      <td>1596</td>\n",
       "      <td>3.403382</td>\n",
       "    </tr>\n",
       "    <tr>\n",
       "      <th>6</th>\n",
       "      <td>683787</td>\n",
       "      <td>91356</td>\n",
       "      <td>1485</td>\n",
       "      <td>3.020526</td>\n",
       "    </tr>\n",
       "    <tr>\n",
       "      <th>7</th>\n",
       "      <td>697571</td>\n",
       "      <td>92969</td>\n",
       "      <td>1502</td>\n",
       "      <td>2.966210</td>\n",
       "    </tr>\n",
       "    <tr>\n",
       "      <th>8</th>\n",
       "      <td>762335</td>\n",
       "      <td>101164</td>\n",
       "      <td>1607</td>\n",
       "      <td>2.710902</td>\n",
       "    </tr>\n",
       "  </tbody>\n",
       "</table>\n",
       "</div>"
      ],
      "text/plain": [
       "       symbols   words  paragraphs  difficulty_mean\n",
       "month                                              \n",
       "5       719377   96272        1596         3.403382\n",
       "6       683787   91356        1485         3.020526\n",
       "7       697571   92969        1502         2.966210\n",
       "8       762335  101164        1607         2.710902"
      ]
     },
     "execution_count": 116,
     "metadata": {},
     "output_type": "execute_result"
    }
   ],
   "source": [
    "df_agg = df.groupby(df['time'].dt.month).agg(\n",
    "    symbols = ('symbols', 'sum'),\n",
    "    words = ('words', 'sum'),\n",
    "    paragraphs = ('paragraphs', 'sum'),\n",
    "    difficulty_mean = ('difficulty', 'mean'))\n",
    "\n",
    "df_agg.index.names = ['month']\n",
    "df_agg"
   ]
  },
  {
   "cell_type": "code",
   "execution_count": 123,
   "metadata": {},
   "outputs": [
    {
     "name": "stderr",
     "output_type": "stream",
     "text": [
      "/var/folders/z9/mv9ft52d0xjdby04_kkqsbfm0000gn/T/ipykernel_13661/2884002236.py:1: FutureWarning: Treating datetime data as categorical rather than numeric in `.describe` is deprecated and will be removed in a future version of pandas. Specify `datetime_is_numeric=True` to silence this warning and adopt the future behavior now.\n",
      "  df.describe(include='all')\n"
     ]
    },
    {
     "data": {
      "text/html": [
       "<div>\n",
       "<style scoped>\n",
       "    .dataframe tbody tr th:only-of-type {\n",
       "        vertical-align: middle;\n",
       "    }\n",
       "\n",
       "    .dataframe tbody tr th {\n",
       "        vertical-align: top;\n",
       "    }\n",
       "\n",
       "    .dataframe thead th {\n",
       "        text-align: right;\n",
       "    }\n",
       "</style>\n",
       "<table border=\"1\" class=\"dataframe\">\n",
       "  <thead>\n",
       "    <tr style=\"text-align: right;\">\n",
       "      <th></th>\n",
       "      <th>url</th>\n",
       "      <th>title</th>\n",
       "      <th>author</th>\n",
       "      <th>time</th>\n",
       "      <th>article</th>\n",
       "      <th>symbols</th>\n",
       "      <th>words</th>\n",
       "      <th>paragraphs</th>\n",
       "      <th>difficulty</th>\n",
       "      <th>topic</th>\n",
       "    </tr>\n",
       "  </thead>\n",
       "  <tbody>\n",
       "    <tr>\n",
       "      <th>count</th>\n",
       "      <td>882</td>\n",
       "      <td>882</td>\n",
       "      <td>882</td>\n",
       "      <td>882</td>\n",
       "      <td>882</td>\n",
       "      <td>882.000000</td>\n",
       "      <td>882.000000</td>\n",
       "      <td>882.000000</td>\n",
       "      <td>882.000000</td>\n",
       "      <td>882</td>\n",
       "    </tr>\n",
       "    <tr>\n",
       "      <th>unique</th>\n",
       "      <td>882</td>\n",
       "      <td>882</td>\n",
       "      <td>29</td>\n",
       "      <td>873</td>\n",
       "      <td>882</td>\n",
       "      <td>NaN</td>\n",
       "      <td>NaN</td>\n",
       "      <td>NaN</td>\n",
       "      <td>NaN</td>\n",
       "      <td>27</td>\n",
       "    </tr>\n",
       "    <tr>\n",
       "      <th>top</th>\n",
       "      <td>https://nplus1.ru/news/2023/05/01/gamma-oscill...</td>\n",
       "      <td>В умирающем человеческом мозге зафиксировали в...</td>\n",
       "      <td>Александр Войтюк</td>\n",
       "      <td>2023-08-02 18:00:00</td>\n",
       "      <td>У двух из четырех умирающих пациентов в коме п...</td>\n",
       "      <td>NaN</td>\n",
       "      <td>NaN</td>\n",
       "      <td>NaN</td>\n",
       "      <td>NaN</td>\n",
       "      <td>Медицина</td>\n",
       "    </tr>\n",
       "    <tr>\n",
       "      <th>freq</th>\n",
       "      <td>1</td>\n",
       "      <td>1</td>\n",
       "      <td>175</td>\n",
       "      <td>2</td>\n",
       "      <td>1</td>\n",
       "      <td>NaN</td>\n",
       "      <td>NaN</td>\n",
       "      <td>NaN</td>\n",
       "      <td>NaN</td>\n",
       "      <td>177</td>\n",
       "    </tr>\n",
       "    <tr>\n",
       "      <th>first</th>\n",
       "      <td>NaN</td>\n",
       "      <td>NaN</td>\n",
       "      <td>NaN</td>\n",
       "      <td>2023-05-01 10:22:00</td>\n",
       "      <td>NaN</td>\n",
       "      <td>NaN</td>\n",
       "      <td>NaN</td>\n",
       "      <td>NaN</td>\n",
       "      <td>NaN</td>\n",
       "      <td>NaN</td>\n",
       "    </tr>\n",
       "    <tr>\n",
       "      <th>last</th>\n",
       "      <td>NaN</td>\n",
       "      <td>NaN</td>\n",
       "      <td>NaN</td>\n",
       "      <td>2023-08-31 22:35:00</td>\n",
       "      <td>NaN</td>\n",
       "      <td>NaN</td>\n",
       "      <td>NaN</td>\n",
       "      <td>NaN</td>\n",
       "      <td>NaN</td>\n",
       "      <td>NaN</td>\n",
       "    </tr>\n",
       "    <tr>\n",
       "      <th>mean</th>\n",
       "      <td>NaN</td>\n",
       "      <td>NaN</td>\n",
       "      <td>NaN</td>\n",
       "      <td>NaN</td>\n",
       "      <td>NaN</td>\n",
       "      <td>3246.111111</td>\n",
       "      <td>432.835601</td>\n",
       "      <td>7.018141</td>\n",
       "      <td>3.003515</td>\n",
       "      <td>NaN</td>\n",
       "    </tr>\n",
       "    <tr>\n",
       "      <th>std</th>\n",
       "      <td>NaN</td>\n",
       "      <td>NaN</td>\n",
       "      <td>NaN</td>\n",
       "      <td>NaN</td>\n",
       "      <td>NaN</td>\n",
       "      <td>1619.252946</td>\n",
       "      <td>218.623584</td>\n",
       "      <td>3.247231</td>\n",
       "      <td>1.380149</td>\n",
       "      <td>NaN</td>\n",
       "    </tr>\n",
       "    <tr>\n",
       "      <th>min</th>\n",
       "      <td>NaN</td>\n",
       "      <td>NaN</td>\n",
       "      <td>NaN</td>\n",
       "      <td>NaN</td>\n",
       "      <td>NaN</td>\n",
       "      <td>290.000000</td>\n",
       "      <td>39.000000</td>\n",
       "      <td>1.000000</td>\n",
       "      <td>1.100000</td>\n",
       "      <td>NaN</td>\n",
       "    </tr>\n",
       "    <tr>\n",
       "      <th>25%</th>\n",
       "      <td>NaN</td>\n",
       "      <td>NaN</td>\n",
       "      <td>NaN</td>\n",
       "      <td>NaN</td>\n",
       "      <td>NaN</td>\n",
       "      <td>1852.000000</td>\n",
       "      <td>248.500000</td>\n",
       "      <td>5.000000</td>\n",
       "      <td>2.100000</td>\n",
       "      <td>NaN</td>\n",
       "    </tr>\n",
       "    <tr>\n",
       "      <th>50%</th>\n",
       "      <td>NaN</td>\n",
       "      <td>NaN</td>\n",
       "      <td>NaN</td>\n",
       "      <td>NaN</td>\n",
       "      <td>NaN</td>\n",
       "      <td>3294.500000</td>\n",
       "      <td>434.000000</td>\n",
       "      <td>7.000000</td>\n",
       "      <td>2.600000</td>\n",
       "      <td>NaN</td>\n",
       "    </tr>\n",
       "    <tr>\n",
       "      <th>75%</th>\n",
       "      <td>NaN</td>\n",
       "      <td>NaN</td>\n",
       "      <td>NaN</td>\n",
       "      <td>NaN</td>\n",
       "      <td>NaN</td>\n",
       "      <td>4390.500000</td>\n",
       "      <td>587.500000</td>\n",
       "      <td>9.000000</td>\n",
       "      <td>3.900000</td>\n",
       "      <td>NaN</td>\n",
       "    </tr>\n",
       "    <tr>\n",
       "      <th>max</th>\n",
       "      <td>NaN</td>\n",
       "      <td>NaN</td>\n",
       "      <td>NaN</td>\n",
       "      <td>NaN</td>\n",
       "      <td>NaN</td>\n",
       "      <td>9723.000000</td>\n",
       "      <td>1298.000000</td>\n",
       "      <td>19.000000</td>\n",
       "      <td>9.300000</td>\n",
       "      <td>NaN</td>\n",
       "    </tr>\n",
       "  </tbody>\n",
       "</table>\n",
       "</div>"
      ],
      "text/plain": [
       "                                                      url  \\\n",
       "count                                                 882   \n",
       "unique                                                882   \n",
       "top     https://nplus1.ru/news/2023/05/01/gamma-oscill...   \n",
       "freq                                                    1   \n",
       "first                                                 NaN   \n",
       "last                                                  NaN   \n",
       "mean                                                  NaN   \n",
       "std                                                   NaN   \n",
       "min                                                   NaN   \n",
       "25%                                                   NaN   \n",
       "50%                                                   NaN   \n",
       "75%                                                   NaN   \n",
       "max                                                   NaN   \n",
       "\n",
       "                                                    title            author  \\\n",
       "count                                                 882               882   \n",
       "unique                                                882                29   \n",
       "top     В умирающем человеческом мозге зафиксировали в...  Александр Войтюк   \n",
       "freq                                                    1               175   \n",
       "first                                                 NaN               NaN   \n",
       "last                                                  NaN               NaN   \n",
       "mean                                                  NaN               NaN   \n",
       "std                                                   NaN               NaN   \n",
       "min                                                   NaN               NaN   \n",
       "25%                                                   NaN               NaN   \n",
       "50%                                                   NaN               NaN   \n",
       "75%                                                   NaN               NaN   \n",
       "max                                                   NaN               NaN   \n",
       "\n",
       "                       time  \\\n",
       "count                   882   \n",
       "unique                  873   \n",
       "top     2023-08-02 18:00:00   \n",
       "freq                      2   \n",
       "first   2023-05-01 10:22:00   \n",
       "last    2023-08-31 22:35:00   \n",
       "mean                    NaN   \n",
       "std                     NaN   \n",
       "min                     NaN   \n",
       "25%                     NaN   \n",
       "50%                     NaN   \n",
       "75%                     NaN   \n",
       "max                     NaN   \n",
       "\n",
       "                                                  article      symbols  \\\n",
       "count                                                 882   882.000000   \n",
       "unique                                                882          NaN   \n",
       "top     У двух из четырех умирающих пациентов в коме п...          NaN   \n",
       "freq                                                    1          NaN   \n",
       "first                                                 NaN          NaN   \n",
       "last                                                  NaN          NaN   \n",
       "mean                                                  NaN  3246.111111   \n",
       "std                                                   NaN  1619.252946   \n",
       "min                                                   NaN   290.000000   \n",
       "25%                                                   NaN  1852.000000   \n",
       "50%                                                   NaN  3294.500000   \n",
       "75%                                                   NaN  4390.500000   \n",
       "max                                                   NaN  9723.000000   \n",
       "\n",
       "              words  paragraphs  difficulty     topic  \n",
       "count    882.000000  882.000000  882.000000       882  \n",
       "unique          NaN         NaN         NaN        27  \n",
       "top             NaN         NaN         NaN  Медицина  \n",
       "freq            NaN         NaN         NaN       177  \n",
       "first           NaN         NaN         NaN       NaN  \n",
       "last            NaN         NaN         NaN       NaN  \n",
       "mean     432.835601    7.018141    3.003515       NaN  \n",
       "std      218.623584    3.247231    1.380149       NaN  \n",
       "min       39.000000    1.000000    1.100000       NaN  \n",
       "25%      248.500000    5.000000    2.100000       NaN  \n",
       "50%      434.000000    7.000000    2.600000       NaN  \n",
       "75%      587.500000    9.000000    3.900000       NaN  \n",
       "max     1298.000000   19.000000    9.300000       NaN  "
      ]
     },
     "execution_count": 123,
     "metadata": {},
     "output_type": "execute_result"
    }
   ],
   "source": [
    "df.describe(include='all')"
   ]
  },
  {
   "cell_type": "code",
   "execution_count": 136,
   "metadata": {},
   "outputs": [
    {
     "data": {
      "image/png": "[encoded data removed]",
      "text/plain": [
       "<Figure size 1400x900 with 4 Axes>"
      ]
     },
     "metadata": {},
     "output_type": "display_data"
    }
   ],
   "source": [
    "fig, ax = plt.subplots(2, 2, figsize=(14, 9))\n",
    "\n",
    "\n",
    "sns.histplot(df['symbols'], ax=ax[0, 0], kde=True)\n",
    "ax[0][0].set_xlabel('Плотность распредления кол-ва символов', fontsize=10)\n",
    "\n",
    "\n",
    "sns.histplot(df['words'], ax=ax[0, 1], kde=True)\n",
    "ax[0][1].set_xlabel('Плотность распредления кол-ва слов', fontsize=10)\n",
    "\n",
    "\n",
    "sns.histplot(df['paragraphs'], ax=ax[1, 0], kde=True)\n",
    "ax[1][0].set_xlabel('Плотность распредления кол-ва параграфов', fontsize=10)\n",
    "\n",
    "\n",
    "sns.histplot(df['difficulty'], ax=ax[1, 1], kde=True)\n",
    "ax[1][1].set_xlabel('Плотность распредления сложности статей', fontsize=10)\n",
    "\n",
    "plt.tight_layout()\n",
    "plt.show()\n"
   ]
  }
 ],
 "metadata": {
  "kernelspec": {
   "display_name": "Python 3 (ipykernel)",
   "language": "python",
   "name": "python3"
  },
  "language_info": {
   "codemirror_mode": {
    "name": "ipython",
    "version": 3
   },
   "file_extension": ".py",
   "mimetype": "text/x-python",
   "name": "python",
   "nbconvert_exporter": "python",
   "pygments_lexer": "ipython3",
   "version": "3.9.13"
  }
 },
 "nbformat": 4,
 "nbformat_minor": 4
}
